{
 "cells": [
  {
   "cell_type": "code",
   "execution_count": 1,
   "metadata": {
    "collapsed": true
   },
   "outputs": [],
   "source": [
    "import pandas as pd\n",
    "import numpy as np\n",
    "# %matplotlib inline\n",
    "import matplotlib.pyplot as plt\n",
    "import matplotlib.font_manager as fm"
   ]
  },
  {
   "cell_type": "code",
   "execution_count": 2,
   "metadata": {
    "collapsed": true
   },
   "outputs": [],
   "source": [
    "# # Max price in 7 days - 1st opening price\n",
    "# Y is divided into 2 groups, (negative & zero) or (positive value) \n",
    "\n",
    "# Read the stock price and the reward rate\n",
    "\n",
    "# 2016/06/01-2017/10/30\n",
    "# TWS100"
   ]
  },
  {
   "cell_type": "code",
   "execution_count": 3,
   "metadata": {
    "collapsed": true
   },
   "outputs": [],
   "source": [
    "TW100 = pd.read_excel(\"TW100NMB.xlsx\")#Taiwan100 Stock Price Data"
   ]
  },
  {
   "cell_type": "code",
   "execution_count": 4,
   "metadata": {
    "collapsed": true
   },
   "outputs": [],
   "source": [
    "TW100Y = pd.read_excel(\"TW100Y.xlsx\")"
   ]
  },
  {
   "cell_type": "code",
   "execution_count": 5,
   "metadata": {
    "collapsed": true
   },
   "outputs": [],
   "source": [
    "X_Test = pd.read_excel(\"Test_X.xlsx\")"
   ]
  },
  {
   "cell_type": "code",
   "execution_count": 6,
   "metadata": {
    "collapsed": true
   },
   "outputs": [],
   "source": [
    "Y_Test = pd.read_excel(\"Test_Y.xlsx\")"
   ]
  },
  {
   "cell_type": "code",
   "execution_count": 7,
   "metadata": {
    "collapsed": false
   },
   "outputs": [],
   "source": [
    "#TW100.head()"
   ]
  },
  {
   "cell_type": "code",
   "execution_count": 8,
   "metadata": {
    "collapsed": false
   },
   "outputs": [],
   "source": [
    "#X_Test.head()"
   ]
  },
  {
   "cell_type": "code",
   "execution_count": 9,
   "metadata": {
    "collapsed": true
   },
   "outputs": [],
   "source": [
    "TW100NT = TW100.drop([\"年月日\",\"市值(百萬元)\"] ,axis=1)"
   ]
  },
  {
   "cell_type": "code",
   "execution_count": 10,
   "metadata": {
    "collapsed": false
   },
   "outputs": [],
   "source": [
    "X_TestSP = X_Test.drop([\"年月日\"] ,axis=1)"
   ]
  },
  {
   "cell_type": "code",
   "execution_count": 11,
   "metadata": {
    "collapsed": false
   },
   "outputs": [],
   "source": [
    "X_Train_SP = TW100NT.values"
   ]
  },
  {
   "cell_type": "code",
   "execution_count": 12,
   "metadata": {
    "collapsed": true
   },
   "outputs": [],
   "source": [
    "X_Test_SP = X_TestSP.values "
   ]
  },
  {
   "cell_type": "code",
   "execution_count": 15,
   "metadata": {
    "collapsed": true
   },
   "outputs": [],
   "source": [
    "Y_Train_MAX_1OPpct = TW100Y[\"預測最大漲幅\"]\n",
    "Y_Train_MIN_1OPpct = TW100Y[\"預測最大漲幅\"]"
   ]
  },
  {
   "cell_type": "code",
   "execution_count": 16,
   "metadata": {
    "collapsed": true
   },
   "outputs": [],
   "source": [
    "Y_1_Train_MAX_1OPpct = Y_Train_MAX_1OPpct.values\n",
    "Y_1_Train_MIN_1OPpct = Y_Train_MIN_1OPpct.values"
   ]
  },
  {
   "cell_type": "code",
   "execution_count": 20,
   "metadata": {
    "collapsed": false,
    "scrolled": true
   },
   "outputs": [],
   "source": [
    "Y_Test_MAX_1OPpct = Y_Test[\"預測一周漲幅\"]\n",
    "Y_Test_MIN_1OPpct = Y_Test[\"預測一周跌幅\"]"
   ]
  },
  {
   "cell_type": "code",
   "execution_count": 38,
   "metadata": {
    "collapsed": true
   },
   "outputs": [],
   "source": [
    "Y_1_Test_MAX_1OPpct = Y_Test_MAX_1OPpct.values\n",
    "Y_1_Test_MIN_1OPpct = Y_Test_MIN_1OPpct.values"
   ]
  },
  {
   "cell_type": "code",
   "execution_count": 22,
   "metadata": {
    "collapsed": true
   },
   "outputs": [],
   "source": [
    "L = [];"
   ]
  },
  {
   "cell_type": "code",
   "execution_count": 23,
   "metadata": {
    "collapsed": false
   },
   "outputs": [],
   "source": [
    "for j in range(0,34500,345):\n",
    "    for i in range(309):\n",
    "        a = X_Train_SP[(i+j):(i+j+30)];\n",
    "        L.append(a);\n",
    "    L"
   ]
  },
  {
   "cell_type": "code",
   "execution_count": 24,
   "metadata": {
    "collapsed": true
   },
   "outputs": [],
   "source": [
    "L1 = np.reshape(L,(30900,240,1))"
   ]
  },
  {
   "cell_type": "code",
   "execution_count": 25,
   "metadata": {
    "collapsed": true
   },
   "outputs": [],
   "source": [
    "M = []"
   ]
  },
  {
   "cell_type": "code",
   "execution_count": 26,
   "metadata": {
    "collapsed": false
   },
   "outputs": [],
   "source": [
    "for j in range(0,17250,345):\n",
    "    for i in range(309):\n",
    "        a = X_Test_SP[(i+j):(i+j+30)];\n",
    "        M.append(a);\n",
    "    M"
   ]
  },
  {
   "cell_type": "code",
   "execution_count": 27,
   "metadata": {
    "collapsed": false
   },
   "outputs": [],
   "source": [
    "M1 = np.reshape(M,(15450,240,1))"
   ]
  },
  {
   "cell_type": "code",
   "execution_count": 28,
   "metadata": {
    "collapsed": true
   },
   "outputs": [],
   "source": [
    "from scipy import stats"
   ]
  },
  {
   "cell_type": "code",
   "execution_count": 33,
   "metadata": {
    "collapsed": false
   },
   "outputs": [
    {
     "data": {
      "text/plain": [
       "DescribeResult(nobs=30900, minmax=(0.0, 52.076124567474068), mean=2.6361267229433101, variance=9.2619013575990703, skewness=3.126799973068731, kurtosis=19.224704274244267)"
      ]
     },
     "execution_count": 33,
     "metadata": {},
     "output_type": "execute_result"
    }
   ],
   "source": [
    "stats.describe(Y_1_Train_MAX_1OPpct)"
   ]
  },
  {
   "cell_type": "code",
   "execution_count": 35,
   "metadata": {
    "collapsed": false
   },
   "outputs": [],
   "source": [
    "#Catogorize y\n",
    "Y_1_Train_MAX_1OPpct[(Y_1_Train_MAX_1OPpct>=0) & (Y_1_Train_MAX_1OPpct<0.5)] = 0\n",
    "Y_1_Train_MAX_1OPpct[(Y_1_Train_MAX_1OPpct>=0.5) & (Y_1_Train_MAX_1OPpct<1.5)] = 1\n",
    "Y_1_Train_MAX_1OPpct[(Y_1_Train_MAX_1OPpct>=1.5) & (Y_1_Train_MAX_1OPpct<3.5)] = 2\n",
    "Y_1_Train_MAX_1OPpct[(Y_1_Train_MAX_1OPpct>=3.5) & (Y_1_Train_MAX_1OPpct<6.5)] = 3\n",
    "Y_1_Train_MAX_1OPpct[(Y_1_Train_MAX_1OPpct>=6.5) & (Y_1_Train_MAX_1OPpct<10)] = 4\n",
    "Y_1_Train_MAX_1OPpct[Y_1_Train_MAX_1OPpct>=10] = 5"
   ]
  },
  {
   "cell_type": "code",
   "execution_count": 39,
   "metadata": {
    "collapsed": true
   },
   "outputs": [],
   "source": [
    "#Catogorize y\n",
    "Y_1_Test_MAX_1OPpct[(Y_1_Test_MAX_1OPpct>=0) & (Y_1_Test_MAX_1OPpct<0.5)] = 0\n",
    "Y_1_Test_MAX_1OPpct[(Y_1_Test_MAX_1OPpct>=0.5) & (Y_1_Test_MAX_1OPpct<1.5)] = 1\n",
    "Y_1_Test_MAX_1OPpct[(Y_1_Test_MAX_1OPpct>=1.5) & (Y_1_Test_MAX_1OPpct<3.5)] = 2\n",
    "Y_1_Test_MAX_1OPpct[(Y_1_Test_MAX_1OPpct>=3.5) & (Y_1_Test_MAX_1OPpct<6.5)] = 3\n",
    "Y_1_Test_MAX_1OPpct[(Y_1_Test_MAX_1OPpct>=6.5) & (Y_1_Test_MAX_1OPpct<10)] = 4\n",
    "Y_1_Test_MAX_1OPpct[Y_1_Test_MAX_1OPpct>=10] = 5"
   ]
  },
  {
   "cell_type": "code",
   "execution_count": 37,
   "metadata": {
    "collapsed": false,
    "scrolled": true
   },
   "outputs": [],
   "source": [
    "# %matplotlib inline\n",
    "# #開始觀察資料決定區間\n",
    "# bins = np.arange(0, 83, 1)\n",
    "# plt.hist(Y_1_Train_MAX_1OPpct, bins = bins, alpha = 0.5)"
   ]
  },
  {
   "cell_type": "code",
   "execution_count": 40,
   "metadata": {
    "collapsed": false
   },
   "outputs": [
    {
     "name": "stderr",
     "output_type": "stream",
     "text": [
      "Using TensorFlow backend.\n"
     ]
    }
   ],
   "source": [
    "#將Ｙ轉換型態\n",
    "from keras.utils import np_utils\n",
    "y_train_trans = np_utils.to_categorical(Y_1_Train_MAX_1OPpct,6)\n",
    "y_test_trans = np_utils.to_categorical(Y_1_Test_MAX_1OPpct,6)"
   ]
  },
  {
   "cell_type": "code",
   "execution_count": 41,
   "metadata": {
    "collapsed": true
   },
   "outputs": [],
   "source": [
    "### Build the model"
   ]
  },
  {
   "cell_type": "code",
   "execution_count": 42,
   "metadata": {
    "collapsed": true
   },
   "outputs": [],
   "source": [
    "from keras.models import Sequential\n",
    "from keras.layers import Dense, Dropout\n",
    "from keras.layers import Embedding, Flatten\n",
    "from keras.layers import Conv1D, GlobalAveragePooling1D, MaxPooling1D"
   ]
  },
  {
   "cell_type": "code",
   "execution_count": 52,
   "metadata": {
    "collapsed": false
   },
   "outputs": [
    {
     "name": "stdout",
     "output_type": "stream",
     "text": [
      "_________________________________________________________________\n",
      "Layer (type)                 Output Shape              Param #   \n",
      "=================================================================\n",
      "conv1d_3 (Conv1D)            (None, 233, 64)           576       \n",
      "_________________________________________________________________\n",
      "conv1d_4 (Conv1D)            (None, 226, 64)           32832     \n",
      "_________________________________________________________________\n",
      "max_pooling1d_1 (MaxPooling1 (None, 28, 64)            0         \n",
      "_________________________________________________________________\n",
      "conv1d_5 (Conv1D)            (None, 21, 128)           65664     \n",
      "_________________________________________________________________\n",
      "conv1d_6 (Conv1D)            (None, 14, 128)           131200    \n",
      "_________________________________________________________________\n",
      "global_average_pooling1d_1 ( (None, 128)               0         \n",
      "_________________________________________________________________\n",
      "dense_2 (Dense)              (None, 6)                 774       \n",
      "=================================================================\n",
      "Total params: 231,046.0\n",
      "Trainable params: 231,046.0\n",
      "Non-trainable params: 0.0\n",
      "_________________________________________________________________\n"
     ]
    }
   ],
   "source": [
    "model = Sequential()\n",
    "model.add(Conv1D(64, 8, activation='relu', input_shape=(L1.shape[1],L1.shape[2])))\n",
    "model.add(Conv1D(64, 8, activation='relu'))\n",
    "model.add(MaxPooling1D(8))\n",
    "model.add(Conv1D(128, 8, activation='relu'))\n",
    "model.add(Conv1D(128, 8, activation='relu'))\n",
    "model.add(GlobalAveragePooling1D())\n",
    "#model.add(Dropout(0.2))\n",
    "#model.add(Flatten())\n",
    "model.add(Dense(y_train_trans.shape[1], activation='softmax'))\n",
    "model.summary()"
   ]
  },
  {
   "cell_type": "code",
   "execution_count": 53,
   "metadata": {
    "collapsed": true
   },
   "outputs": [],
   "source": [
    "model.compile(loss='categorical_crossentropy', optimizer='adam', metrics = [\"accuracy\"])"
   ]
  },
  {
   "cell_type": "code",
   "execution_count": 54,
   "metadata": {
    "collapsed": false,
    "scrolled": true
   },
   "outputs": [
    {
     "name": "stdout",
     "output_type": "stream",
     "text": [
      "Train on 30900 samples, validate on 15450 samples\n",
      "Epoch 1/1\n",
      "30900/30900 [==============================] - 91s - loss: nan - acc: 0.1901 - val_loss: nan - val_acc: 0.1665\n"
     ]
    },
    {
     "data": {
      "text/plain": [
       "<keras.callbacks.History at 0x4acd287be0>"
      ]
     },
     "execution_count": 54,
     "metadata": {},
     "output_type": "execute_result"
    }
   ],
   "source": [
    "model.fit(L1, y_train_trans, batch_size=16, epochs=1, validation_data=(M1, y_test_trans))"
   ]
  },
  {
   "cell_type": "code",
   "execution_count": 55,
   "metadata": {
    "collapsed": false
   },
   "outputs": [
    {
     "name": "stdout",
     "output_type": "stream",
     "text": [
      "15424/15450 [============================>.] - ETA: 0s"
     ]
    },
    {
     "data": {
      "text/plain": [
       "[nan, 0.16647249191902988]"
      ]
     },
     "execution_count": 55,
     "metadata": {},
     "output_type": "execute_result"
    }
   ],
   "source": [
    "score = model.evaluate(M1, y_test_trans)\n",
    "score"
   ]
  },
  {
   "cell_type": "code",
   "execution_count": 56,
   "metadata": {
    "collapsed": true
   },
   "outputs": [],
   "source": [
    "pick = np.random.randint(1,15450, 20)"
   ]
  },
  {
   "cell_type": "code",
   "execution_count": 57,
   "metadata": {
    "collapsed": false
   },
   "outputs": [
    {
     "name": "stdout",
     "output_type": "stream",
     "text": [
      "15392/15450 [============================>.] - ETA: 0s"
     ]
    }
   ],
   "source": [
    "result = model.predict_classes(M1)"
   ]
  },
  {
   "cell_type": "code",
   "execution_count": 58,
   "metadata": {
    "collapsed": true
   },
   "outputs": [],
   "source": [
    "from ipywidgets import interact_manual"
   ]
  },
  {
   "cell_type": "code",
   "execution_count": 59,
   "metadata": {
    "collapsed": false
   },
   "outputs": [],
   "source": [
    "def identify(testnumber):\n",
    "    print(testnumber);\n",
    "    print(\"神經網路判斷為：\",result[testnumber]);\n",
    "    print(\"正確答案是:\",y_test_trans[testnumber]);"
   ]
  },
  {
   "cell_type": "code",
   "execution_count": 60,
   "metadata": {
    "collapsed": false
   },
   "outputs": [
    {
     "name": "stdout",
     "output_type": "stream",
     "text": [
      "1197\n",
      "神經網路判斷為： 0\n",
      "正確答案是: [ 0.  0.  0.  1.  0.  0.]\n"
     ]
    }
   ],
   "source": [
    "interact_manual(identify, testnumber=(0,15449))"
   ]
  },
  {
   "cell_type": "code",
   "execution_count": 61,
   "metadata": {
    "collapsed": false
   },
   "outputs": [],
   "source": [
    "list = []\n",
    "for i in range(15449):\n",
    "    #if (result[i] == 0) and (Y_1_Test_7DRR[i] == 0):\n",
    "        #list.append(i);\n",
    "    if (result[i] == 1) and (Y_1_Test_7DRR[i] == 1):\n",
    "        list.append(i);"
   ]
  },
  {
   "cell_type": "code",
   "execution_count": 62,
   "metadata": {
    "collapsed": false
   },
   "outputs": [
    {
     "data": {
      "text/plain": [
       "0"
      ]
     },
     "execution_count": 62,
     "metadata": {},
     "output_type": "execute_result"
    }
   ],
   "source": [
    "len(list)"
   ]
  },
  {
   "cell_type": "code",
   "execution_count": null,
   "metadata": {
    "collapsed": true
   },
   "outputs": [],
   "source": []
  }
 ],
 "metadata": {
  "anaconda-cloud": {},
  "kernelspec": {
   "display_name": "Python [Root]",
   "language": "python",
   "name": "Python [Root]"
  },
  "language_info": {
   "codemirror_mode": {
    "name": "ipython",
    "version": 3
   },
   "file_extension": ".py",
   "mimetype": "text/x-python",
   "name": "python",
   "nbconvert_exporter": "python",
   "pygments_lexer": "ipython3",
   "version": "3.5.2"
  }
 },
 "nbformat": 4,
 "nbformat_minor": 1
}
