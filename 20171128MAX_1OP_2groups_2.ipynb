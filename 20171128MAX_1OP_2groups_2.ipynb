{
 "cells": [
  {
   "cell_type": "code",
   "execution_count": 1,
   "metadata": {
    "collapsed": true
   },
   "outputs": [],
   "source": [
    "import pandas as pd\n",
    "import numpy as np\n",
    "# %matplotlib inline\n",
    "import matplotlib.pyplot as plt\n",
    "import matplotlib.font_manager as fm"
   ]
  },
  {
   "cell_type": "markdown",
   "metadata": {},
   "source": [
    "# Max price in 7 days - 1st opening price\n",
    "Y is divided into 2 groups, (negative & zero) or (positive value) \n",
    "\n",
    "Read the stock price and the reward rate\n",
    "\n",
    "2016/06/01-2017/10/30\n",
    "TWS100"
   ]
  },
  {
   "cell_type": "code",
   "execution_count": 2,
   "metadata": {
    "collapsed": true
   },
   "outputs": [],
   "source": [
    "TW100 = pd.read_excel(\"TW100NMB.xlsx\")#Taiwan100 Stock Price Data"
   ]
  },
  {
   "cell_type": "code",
   "execution_count": 3,
   "metadata": {
    "collapsed": true
   },
   "outputs": [],
   "source": [
    "TW100Y = pd.read_excel(\"TW100Y.xlsx\")"
   ]
  },
  {
   "cell_type": "code",
   "execution_count": 4,
   "metadata": {
    "collapsed": true
   },
   "outputs": [],
   "source": [
    "X_Test = pd.read_excel(\"Test_X.xlsx\")"
   ]
  },
  {
   "cell_type": "code",
   "execution_count": 5,
   "metadata": {
    "collapsed": true
   },
   "outputs": [],
   "source": [
    "Y_Test = pd.read_excel(\"Test_Y.xlsx\")"
   ]
  },
  {
   "cell_type": "code",
   "execution_count": 6,
   "metadata": {
    "collapsed": false
   },
   "outputs": [
    {
     "data": {
      "text/html": [
       "<div>\n",
       "<table border=\"1\" class=\"dataframe\">\n",
       "  <thead>\n",
       "    <tr style=\"text-align: right;\">\n",
       "      <th></th>\n",
       "      <th>年月日</th>\n",
       "      <th>開盤價(元)</th>\n",
       "      <th>收盤價(元)</th>\n",
       "      <th>最高價(元)</th>\n",
       "      <th>最低價(元)</th>\n",
       "      <th>市值(百萬元)</th>\n",
       "      <th>RSV</th>\n",
       "      <th>K值</th>\n",
       "      <th>D值</th>\n",
       "      <th>CAPM_Beta 一月</th>\n",
       "    </tr>\n",
       "  </thead>\n",
       "  <tbody>\n",
       "    <tr>\n",
       "      <th>1101 台泥</th>\n",
       "      <td>2016/06/01</td>\n",
       "      <td>27.69</td>\n",
       "      <td>27.60</td>\n",
       "      <td>27.88</td>\n",
       "      <td>27.37</td>\n",
       "      <td>110396</td>\n",
       "      <td>0.938053</td>\n",
       "      <td>0.794810</td>\n",
       "      <td>0.480569</td>\n",
       "      <td>1.4018</td>\n",
       "    </tr>\n",
       "    <tr>\n",
       "      <th>1101 台泥</th>\n",
       "      <td>2016/06/02</td>\n",
       "      <td>27.60</td>\n",
       "      <td>27.69</td>\n",
       "      <td>27.79</td>\n",
       "      <td>27.51</td>\n",
       "      <td>110765</td>\n",
       "      <td>0.852713</td>\n",
       "      <td>0.814111</td>\n",
       "      <td>0.585316</td>\n",
       "      <td>1.3437</td>\n",
       "    </tr>\n",
       "    <tr>\n",
       "      <th>1101 台泥</th>\n",
       "      <td>2016/06/03</td>\n",
       "      <td>27.79</td>\n",
       "      <td>28.34</td>\n",
       "      <td>28.34</td>\n",
       "      <td>27.74</td>\n",
       "      <td>113349</td>\n",
       "      <td>1.368000</td>\n",
       "      <td>0.998741</td>\n",
       "      <td>0.661581</td>\n",
       "      <td>1.4654</td>\n",
       "    </tr>\n",
       "    <tr>\n",
       "      <th>1101 台泥</th>\n",
       "      <td>2016/06/04</td>\n",
       "      <td>28.34</td>\n",
       "      <td>28.25</td>\n",
       "      <td>28.52</td>\n",
       "      <td>28.15</td>\n",
       "      <td>112980</td>\n",
       "      <td>0.947368</td>\n",
       "      <td>0.981617</td>\n",
       "      <td>0.773968</td>\n",
       "      <td>1.1352</td>\n",
       "    </tr>\n",
       "    <tr>\n",
       "      <th>1101 台泥</th>\n",
       "      <td>2016/06/06</td>\n",
       "      <td>28.57</td>\n",
       "      <td>27.65</td>\n",
       "      <td>28.57</td>\n",
       "      <td>27.60</td>\n",
       "      <td>110580</td>\n",
       "      <td>0.445860</td>\n",
       "      <td>0.803031</td>\n",
       "      <td>0.843184</td>\n",
       "      <td>1.1715</td>\n",
       "    </tr>\n",
       "  </tbody>\n",
       "</table>\n",
       "</div>"
      ],
      "text/plain": [
       "                年月日  開盤價(元)  收盤價(元)  最高價(元)  最低價(元)  市值(百萬元)       RSV  \\\n",
       "1101 台泥  2016/06/01   27.69   27.60   27.88   27.37   110396  0.938053   \n",
       "1101 台泥  2016/06/02   27.60   27.69   27.79   27.51   110765  0.852713   \n",
       "1101 台泥  2016/06/03   27.79   28.34   28.34   27.74   113349  1.368000   \n",
       "1101 台泥  2016/06/04   28.34   28.25   28.52   28.15   112980  0.947368   \n",
       "1101 台泥  2016/06/06   28.57   27.65   28.57   27.60   110580  0.445860   \n",
       "\n",
       "               K值        D值  CAPM_Beta 一月  \n",
       "1101 台泥  0.794810  0.480569        1.4018  \n",
       "1101 台泥  0.814111  0.585316        1.3437  \n",
       "1101 台泥  0.998741  0.661581        1.4654  \n",
       "1101 台泥  0.981617  0.773968        1.1352  \n",
       "1101 台泥  0.803031  0.843184        1.1715  "
      ]
     },
     "execution_count": 6,
     "metadata": {},
     "output_type": "execute_result"
    }
   ],
   "source": [
    "TW100.head()"
   ]
  },
  {
   "cell_type": "code",
   "execution_count": 7,
   "metadata": {
    "collapsed": false
   },
   "outputs": [
    {
     "data": {
      "text/html": [
       "<div>\n",
       "<table border=\"1\" class=\"dataframe\">\n",
       "  <thead>\n",
       "    <tr style=\"text-align: right;\">\n",
       "      <th></th>\n",
       "      <th>年月日</th>\n",
       "      <th>開盤價(元)</th>\n",
       "      <th>收盤價(元)</th>\n",
       "      <th>最高價(元)</th>\n",
       "      <th>最低價(元)</th>\n",
       "      <th>RSV</th>\n",
       "      <th>K值</th>\n",
       "      <th>D值</th>\n",
       "      <th>CAPM_Beta 一月</th>\n",
       "    </tr>\n",
       "  </thead>\n",
       "  <tbody>\n",
       "    <tr>\n",
       "      <th>2313 華通</th>\n",
       "      <td>2016/06/01</td>\n",
       "      <td>14.84</td>\n",
       "      <td>15.57</td>\n",
       "      <td>15.71</td>\n",
       "      <td>14.84</td>\n",
       "      <td>1.703297</td>\n",
       "      <td>0.981588</td>\n",
       "      <td>0.570461</td>\n",
       "      <td>1.9814</td>\n",
       "    </tr>\n",
       "    <tr>\n",
       "      <th>2313 華通</th>\n",
       "      <td>2016/06/02</td>\n",
       "      <td>15.66</td>\n",
       "      <td>15.48</td>\n",
       "      <td>15.71</td>\n",
       "      <td>15.39</td>\n",
       "      <td>0.838028</td>\n",
       "      <td>0.933735</td>\n",
       "      <td>0.691552</td>\n",
       "      <td>1.9519</td>\n",
       "    </tr>\n",
       "    <tr>\n",
       "      <th>2313 華通</th>\n",
       "      <td>2016/06/03</td>\n",
       "      <td>15.57</td>\n",
       "      <td>15.44</td>\n",
       "      <td>15.66</td>\n",
       "      <td>15.39</td>\n",
       "      <td>0.773109</td>\n",
       "      <td>0.880193</td>\n",
       "      <td>0.754433</td>\n",
       "      <td>1.9087</td>\n",
       "    </tr>\n",
       "    <tr>\n",
       "      <th>2313 華通</th>\n",
       "      <td>2016/06/04</td>\n",
       "      <td>15.53</td>\n",
       "      <td>15.66</td>\n",
       "      <td>15.66</td>\n",
       "      <td>15.44</td>\n",
       "      <td>0.957983</td>\n",
       "      <td>0.906123</td>\n",
       "      <td>0.804996</td>\n",
       "      <td>1.9959</td>\n",
       "    </tr>\n",
       "    <tr>\n",
       "      <th>2313 華通</th>\n",
       "      <td>2016/06/06</td>\n",
       "      <td>15.57</td>\n",
       "      <td>15.39</td>\n",
       "      <td>15.71</td>\n",
       "      <td>15.25</td>\n",
       "      <td>0.719298</td>\n",
       "      <td>0.843848</td>\n",
       "      <td>0.817947</td>\n",
       "      <td>1.9060</td>\n",
       "    </tr>\n",
       "  </tbody>\n",
       "</table>\n",
       "</div>"
      ],
      "text/plain": [
       "                年月日  開盤價(元)  收盤價(元)  最高價(元)  最低價(元)       RSV        K值  \\\n",
       "2313 華通  2016/06/01   14.84   15.57   15.71   14.84  1.703297  0.981588   \n",
       "2313 華通  2016/06/02   15.66   15.48   15.71   15.39  0.838028  0.933735   \n",
       "2313 華通  2016/06/03   15.57   15.44   15.66   15.39  0.773109  0.880193   \n",
       "2313 華通  2016/06/04   15.53   15.66   15.66   15.44  0.957983  0.906123   \n",
       "2313 華通  2016/06/06   15.57   15.39   15.71   15.25  0.719298  0.843848   \n",
       "\n",
       "               D值  CAPM_Beta 一月  \n",
       "2313 華通  0.570461        1.9814  \n",
       "2313 華通  0.691552        1.9519  \n",
       "2313 華通  0.754433        1.9087  \n",
       "2313 華通  0.804996        1.9959  \n",
       "2313 華通  0.817947        1.9060  "
      ]
     },
     "execution_count": 7,
     "metadata": {},
     "output_type": "execute_result"
    }
   ],
   "source": [
    "X_Test.head()"
   ]
  },
  {
   "cell_type": "code",
   "execution_count": 8,
   "metadata": {
    "collapsed": true
   },
   "outputs": [],
   "source": [
    "TW100NT = TW100.drop([\"年月日\",\"市值(百萬元)\"] ,axis=1)"
   ]
  },
  {
   "cell_type": "code",
   "execution_count": 9,
   "metadata": {
    "collapsed": false
   },
   "outputs": [],
   "source": [
    "X_TestSP = X_Test.drop([\"年月日\"] ,axis=1)"
   ]
  },
  {
   "cell_type": "code",
   "execution_count": 10,
   "metadata": {
    "collapsed": false
   },
   "outputs": [],
   "source": [
    "X_Train_SP = TW100NT.values"
   ]
  },
  {
   "cell_type": "code",
   "execution_count": 11,
   "metadata": {
    "collapsed": true
   },
   "outputs": [],
   "source": [
    "X_Test_SP = X_TestSP.values "
   ]
  },
  {
   "cell_type": "code",
   "execution_count": 12,
   "metadata": {
    "collapsed": false
   },
   "outputs": [
    {
     "data": {
      "text/plain": [
       "array([[  1.48400000e+01,   1.55700000e+01,   1.57100000e+01, ...,\n",
       "          9.81588319e-01,   5.70461098e-01,   1.98140000e+00],\n",
       "       [  1.56600000e+01,   1.54800000e+01,   1.57100000e+01, ...,\n",
       "          9.33734936e-01,   6.91552377e-01,   1.95190000e+00],\n",
       "       [  1.55700000e+01,   1.54400000e+01,   1.56600000e+01, ...,\n",
       "          8.80193038e-01,   7.54432597e-01,   1.90870000e+00],\n",
       "       ..., \n",
       "       [  3.95500000e+01,   3.93000000e+01,   3.95500000e+01, ...,\n",
       "          1.08932686e-01,   2.57383848e-01,   5.49100000e-01],\n",
       "       [  3.93500000e+01,   3.89500000e+01,   3.96000000e+01, ...,\n",
       "          1.46507762e-02,   1.76472824e-01,   4.94800000e-01],\n",
       "       [  3.95000000e+01,   3.92000000e+01,   3.97000000e+01, ...,\n",
       "          1.09767184e-01,   1.54237611e-01,   4.93200000e-01]])"
      ]
     },
     "execution_count": 12,
     "metadata": {},
     "output_type": "execute_result"
    }
   ],
   "source": [
    "X_Test_SP"
   ]
  },
  {
   "cell_type": "code",
   "execution_count": 13,
   "metadata": {
    "collapsed": true
   },
   "outputs": [],
   "source": [
    "Y_Train_7DRR = TW100Y[\"7DaysRR\"]               \n",
    "Y_Train_MAX_30CP = TW100Y[\"7DaysMAXP-30thCP\"]  \n",
    "Y_Train_MAX_1OP = TW100Y[\"7DaysMAXP-1stOP\"]    \n",
    "Y_Train_MIN_30CP = TW100Y[\"7DaysMINP-30thCP\"]  \n",
    "Y_Train_MIN_1OP = TW100Y[\"7DaysMINP-1stOP\"]    "
   ]
  },
  {
   "cell_type": "code",
   "execution_count": 14,
   "metadata": {
    "collapsed": true
   },
   "outputs": [],
   "source": [
    "Y_1_Train_7DRR = Y_Train_7DRR.values\n",
    "Y_1_Train_MAX_30CP = Y_Train_MAX_30CP.values\n",
    "Y_1_Train_MAX_1OP = Y_Train_MAX_1OP.values\n",
    "Y_1_Train_MIN_30P = Y_Train_MIN_30CP.values\n",
    "Y_1_Train_MIN_1OP = Y_Train_MIN_1OP.values"
   ]
  },
  {
   "cell_type": "code",
   "execution_count": 15,
   "metadata": {
    "collapsed": false
   },
   "outputs": [
    {
     "data": {
      "text/html": [
       "<div>\n",
       "<table border=\"1\" class=\"dataframe\">\n",
       "  <thead>\n",
       "    <tr style=\"text-align: right;\">\n",
       "      <th></th>\n",
       "      <th>七天投報率</th>\n",
       "      <th>七天最大值-第一天開盤價</th>\n",
       "      <th>七天最小值減第一天開盤價</th>\n",
       "    </tr>\n",
       "  </thead>\n",
       "  <tbody>\n",
       "    <tr>\n",
       "      <th>0</th>\n",
       "      <td>3.115326</td>\n",
       "      <td>0.68</td>\n",
       "      <td>-0.10</td>\n",
       "    </tr>\n",
       "    <tr>\n",
       "      <th>1</th>\n",
       "      <td>3.437534</td>\n",
       "      <td>0.68</td>\n",
       "      <td>-0.10</td>\n",
       "    </tr>\n",
       "    <tr>\n",
       "      <th>2</th>\n",
       "      <td>4.388719</td>\n",
       "      <td>1.03</td>\n",
       "      <td>-0.19</td>\n",
       "    </tr>\n",
       "    <tr>\n",
       "      <th>3</th>\n",
       "      <td>4.361332</td>\n",
       "      <td>1.12</td>\n",
       "      <td>-0.10</td>\n",
       "    </tr>\n",
       "    <tr>\n",
       "      <th>4</th>\n",
       "      <td>3.437465</td>\n",
       "      <td>1.03</td>\n",
       "      <td>-0.09</td>\n",
       "    </tr>\n",
       "  </tbody>\n",
       "</table>\n",
       "</div>"
      ],
      "text/plain": [
       "      七天投報率  七天最大值-第一天開盤價  七天最小值減第一天開盤價\n",
       "0  3.115326          0.68         -0.10\n",
       "1  3.437534          0.68         -0.10\n",
       "2  4.388719          1.03         -0.19\n",
       "3  4.361332          1.12         -0.10\n",
       "4  3.437465          1.03         -0.09"
      ]
     },
     "execution_count": 15,
     "metadata": {},
     "output_type": "execute_result"
    }
   ],
   "source": [
    "Y_Test.head()"
   ]
  },
  {
   "cell_type": "code",
   "execution_count": 16,
   "metadata": {
    "collapsed": true
   },
   "outputs": [],
   "source": [
    "Y_Test_7DRR = Y_Test[\"七天投報率\"]               \n",
    "Y_Test_MAX_1OP = Y_Test[\"七天最大值-第一天開盤價\"]  \n",
    "Y_Test_MIN_1OP = Y_Test[\"七天最小值減第一天開盤價\"]    "
   ]
  },
  {
   "cell_type": "code",
   "execution_count": 17,
   "metadata": {
    "collapsed": true
   },
   "outputs": [],
   "source": [
    "Y_1_Test_7DRR = Y_Test_7DRR.values\n",
    "Y_1_Test_MAX_1OP = Y_Test_MAX_1OP.values\n",
    "Y_1_Test_MIN_1OP = Y_Test_MIN_1OP"
   ]
  },
  {
   "cell_type": "code",
   "execution_count": 18,
   "metadata": {
    "collapsed": true
   },
   "outputs": [],
   "source": [
    "L = [];"
   ]
  },
  {
   "cell_type": "code",
   "execution_count": 19,
   "metadata": {
    "collapsed": false
   },
   "outputs": [],
   "source": [
    "for j in range(0,34500,345):\n",
    "    for i in range(309):\n",
    "        a = X_Train_SP[(i+j):(i+j+30)];\n",
    "        L.append(a);\n",
    "    L"
   ]
  },
  {
   "cell_type": "code",
   "execution_count": 20,
   "metadata": {
    "collapsed": true
   },
   "outputs": [],
   "source": [
    "L1 = np.reshape(L,(30900,240,1))"
   ]
  },
  {
   "cell_type": "code",
   "execution_count": 21,
   "metadata": {
    "collapsed": true
   },
   "outputs": [],
   "source": [
    "M = []"
   ]
  },
  {
   "cell_type": "code",
   "execution_count": 22,
   "metadata": {
    "collapsed": false
   },
   "outputs": [],
   "source": [
    "for j in range(0,17250,345):\n",
    "    for i in range(309):\n",
    "        a = X_Test_SP[(i+j):(i+j+30)];\n",
    "        M.append(a);\n",
    "    M"
   ]
  },
  {
   "cell_type": "code",
   "execution_count": 23,
   "metadata": {
    "collapsed": false
   },
   "outputs": [],
   "source": [
    "M1 = np.reshape(M,(15450,240,1))"
   ]
  },
  {
   "cell_type": "code",
   "execution_count": 24,
   "metadata": {
    "collapsed": true
   },
   "outputs": [],
   "source": [
    "from scipy import stats"
   ]
  },
  {
   "cell_type": "code",
   "execution_count": 28,
   "metadata": {
    "collapsed": false
   },
   "outputs": [
    {
     "data": {
      "text/plain": [
       "DescribeResult(nobs=15450, minmax=(-21.031892421460562, 82.790806087219664), mean=0.56833214012905842, variance=23.793078507596395, skewness=1.9051584706113533, kurtosis=19.795073962554387)"
      ]
     },
     "execution_count": 28,
     "metadata": {},
     "output_type": "execute_result"
    }
   ],
   "source": [
    "stats.describe(Y_1_Test_7DRR)"
   ]
  },
  {
   "cell_type": "code",
   "execution_count": 26,
   "metadata": {
    "collapsed": false
   },
   "outputs": [],
   "source": [
    "#Catogorize y\n",
    "Y_1_Train_7DRR[Y_1_Train_7DRR<=0] = 0  \n",
    "Y_1_Train_7DRR[Y_1_Train_7DRR>0] = 1   "
   ]
  },
  {
   "cell_type": "code",
   "execution_count": 34,
   "metadata": {
    "collapsed": true
   },
   "outputs": [],
   "source": [
    "#Catogorize y \n",
    "Y_1_Test_7DRR[Y_1_Test_7DRR<=0] = 0   \n",
    "Y_1_Test_7DRR[Y_1_Test_7DRR>0] = 1   "
   ]
  },
  {
   "cell_type": "code",
   "execution_count": 37,
   "metadata": {
    "collapsed": false,
    "scrolled": true
   },
   "outputs": [
    {
     "data": {
      "text/plain": [
       "(array([ 7135.,  8315.]), array([0, 1, 2]), <a list of 2 Patch objects>)"
      ]
     },
     "execution_count": 37,
     "metadata": {},
     "output_type": "execute_result"
    },
    {
     "data": {
      "image/png": "[encoded data removed]",
      "text/plain": [
       "<matplotlib.figure.Figure at 0xc8d0f1e898>"
      ]
     },
     "metadata": {},
     "output_type": "display_data"
    }
   ],
   "source": [
    "%matplotlib inline\n",
    "#開始觀察資料決定區間\n",
    "bins = np.arange(0, 3, 1)\n",
    "plt.hist(Y_1_Test_7DRR, bins = bins, alpha = 0.5)"
   ]
  },
  {
   "cell_type": "code",
   "execution_count": 38,
   "metadata": {
    "collapsed": false
   },
   "outputs": [
    {
     "name": "stderr",
     "output_type": "stream",
     "text": [
      "Using TensorFlow backend.\n"
     ]
    }
   ],
   "source": [
    "#將Ｙ轉換型態\n",
    "from keras.utils import np_utils\n",
    "y_train_trans = np_utils.to_categorical(Y_1_Train_7DRR,2)\n",
    "y_test_trans = np_utils.to_categorical(Y_1_Test_7DRR,2)"
   ]
  },
  {
   "cell_type": "markdown",
   "metadata": {},
   "source": [
    "### Build the model"
   ]
  },
  {
   "cell_type": "code",
   "execution_count": 39,
   "metadata": {
    "collapsed": true
   },
   "outputs": [],
   "source": [
    "from keras.models import Sequential\n",
    "from keras.layers import Dense, Dropout\n",
    "from keras.layers import Embedding, Flatten\n",
    "from keras.layers import Conv1D, GlobalAveragePooling1D, MaxPooling1D"
   ]
  },
  {
   "cell_type": "code",
   "execution_count": 40,
   "metadata": {
    "collapsed": false
   },
   "outputs": [
    {
     "name": "stdout",
     "output_type": "stream",
     "text": [
      "_________________________________________________________________\n",
      "Layer (type)                 Output Shape              Param #   \n",
      "=================================================================\n",
      "conv1d_1 (Conv1D)            (None, 233, 64)           576       \n",
      "_________________________________________________________________\n",
      "conv1d_2 (Conv1D)            (None, 226, 64)           32832     \n",
      "_________________________________________________________________\n",
      "flatten_1 (Flatten)          (None, 14464)             0         \n",
      "_________________________________________________________________\n",
      "dense_1 (Dense)              (None, 2)                 28930     \n",
      "=================================================================\n",
      "Total params: 62,338.0\n",
      "Trainable params: 62,338.0\n",
      "Non-trainable params: 0.0\n",
      "_________________________________________________________________\n"
     ]
    }
   ],
   "source": [
    "model = Sequential()\n",
    "model.add(Conv1D(64, 8, activation='relu', input_shape=(L1.shape[1],L1.shape[2])))\n",
    "model.add(Conv1D(64, 8, activation='relu'))\n",
    "#model.add(MaxPooling1D(8))\n",
    "#model.add(Conv1D(128, 8, activation='relu'))\n",
    "#model.add(Conv1D(128, 8, activation='relu'))\n",
    "#model.add(GlobalAveragePooling1D())\n",
    "#model.add(Dropout(0.2))\n",
    "model.add(Flatten())\n",
    "model.add(Dense(y_train_trans.shape[1], activation='softmax'))\n",
    "model.summary()"
   ]
  },
  {
   "cell_type": "code",
   "execution_count": 41,
   "metadata": {
    "collapsed": true
   },
   "outputs": [],
   "source": [
    "# model.compile(loss='binary_crossentropy',\n",
    "#               optimizer='rmsprop',\n",
    "#               metrics=['accuracy'])"
   ]
  },
  {
   "cell_type": "code",
   "execution_count": 42,
   "metadata": {
    "collapsed": true
   },
   "outputs": [],
   "source": [
    "model.compile(loss='categorical_crossentropy', optimizer='adam', metrics = [\"accuracy\"])"
   ]
  },
  {
   "cell_type": "code",
   "execution_count": 43,
   "metadata": {
    "collapsed": false,
    "scrolled": true
   },
   "outputs": [
    {
     "name": "stdout",
     "output_type": "stream",
     "text": [
      "Train on 30900 samples, validate on 15450 samples\n",
      "Epoch 1/5\n",
      "30900/30900 [==============================] - 58s - loss: nan - acc: 0.4758 - val_loss: nan - val_acc: 0.4618\n",
      "Epoch 2/5\n",
      "30900/30900 [==============================] - 57s - loss: nan - acc: 0.4758 - val_loss: nan - val_acc: 0.4618\n",
      "Epoch 3/5\n",
      "30900/30900 [==============================] - 61s - loss: nan - acc: 0.4758 - val_loss: nan - val_acc: 0.4618\n",
      "Epoch 4/5\n",
      "30900/30900 [==============================] - 63s - loss: nan - acc: 0.4758 - val_loss: nan - val_acc: 0.4618\n",
      "Epoch 5/5\n",
      "30900/30900 [==============================] - 61s - loss: nan - acc: 0.4758 - val_loss: nan - val_acc: 0.4618\n"
     ]
    },
    {
     "data": {
      "text/plain": [
       "<keras.callbacks.History at 0xc8dffb4e80>"
      ]
     },
     "execution_count": 43,
     "metadata": {},
     "output_type": "execute_result"
    }
   ],
   "source": [
    "model.fit(L1, y_train_trans, batch_size=16, epochs=5, validation_data=(M1, y_test_trans))"
   ]
  },
  {
   "cell_type": "code",
   "execution_count": 55,
   "metadata": {
    "collapsed": false
   },
   "outputs": [
    {
     "name": "stdout",
     "output_type": "stream",
     "text": [
      "15360/15450 [============================>.] - ETA: 0s"
     ]
    },
    {
     "data": {
      "text/plain": [
       "[nan, 0.46181229773848576]"
      ]
     },
     "execution_count": 55,
     "metadata": {},
     "output_type": "execute_result"
    }
   ],
   "source": [
    "score = model.evaluate(M1, y_test_trans)\n",
    "score"
   ]
  },
  {
   "cell_type": "code",
   "execution_count": 63,
   "metadata": {
    "collapsed": true
   },
   "outputs": [],
   "source": [
    "pick = np.random.randint(1,15450, 20)"
   ]
  },
  {
   "cell_type": "code",
   "execution_count": 64,
   "metadata": {
    "collapsed": false
   },
   "outputs": [
    {
     "name": "stdout",
     "output_type": "stream",
     "text": [
      "15424/15450 [============================>.] - ETA: 0s"
     ]
    }
   ],
   "source": [
    "result = model.predict_classes(M1)"
   ]
  },
  {
   "cell_type": "code",
   "execution_count": 73,
   "metadata": {
    "collapsed": true
   },
   "outputs": [],
   "source": [
    "from ipywidgets import interact_manual"
   ]
  },
  {
   "cell_type": "code",
   "execution_count": 77,
   "metadata": {
    "collapsed": false
   },
   "outputs": [],
   "source": [
    "def identify(testnumber):\n",
    "    print(testnumber);\n",
    "    print(\"神經網路判斷為：\",result[testnumber]);\n",
    "    print(\"正確答案是:\",y_test_trans[testnumber]);"
   ]
  },
  {
   "cell_type": "code",
   "execution_count": 80,
   "metadata": {
    "collapsed": false
   },
   "outputs": [
    {
     "name": "stdout",
     "output_type": "stream",
     "text": [
      "9379\n",
      "神經網路判斷為： 0\n",
      "正確答案是: [ 0.  1.]\n"
     ]
    }
   ],
   "source": [
    "interact_manual(identify, testnumber=(0,15449))"
   ]
  },
  {
   "cell_type": "code",
   "execution_count": 106,
   "metadata": {
    "collapsed": false
   },
   "outputs": [],
   "source": [
    "list = []\n",
    "for i in range(15449):\n",
    "    #if (result[i] == 0) and (Y_1_Test_7DRR[i] == 0):\n",
    "        #list.append(i);\n",
    "    if (result[i] == 1) and (Y_1_Test_7DRR[i] == 1):\n",
    "        list.append(i);"
   ]
  },
  {
   "cell_type": "code",
   "execution_count": 107,
   "metadata": {
    "collapsed": false
   },
   "outputs": [
    {
     "data": {
      "text/plain": [
       "0"
      ]
     },
     "execution_count": 107,
     "metadata": {},
     "output_type": "execute_result"
    }
   ],
   "source": [
    "len(list)"
   ]
  },
  {
   "cell_type": "code",
   "execution_count": null,
   "metadata": {
    "collapsed": true
   },
   "outputs": [],
   "source": []
  }
 ],
 "metadata": {
  "anaconda-cloud": {},
  "kernelspec": {
   "display_name": "Python [Root]",
   "language": "python",
   "name": "Python [Root]"
  },
  "language_info": {
   "codemirror_mode": {
    "name": "ipython",
    "version": 3
   },
   "file_extension": ".py",
   "mimetype": "text/x-python",
   "name": "python",
   "nbconvert_exporter": "python",
   "pygments_lexer": "ipython3",
   "version": "3.5.2"
  }
 },
 "nbformat": 4,
 "nbformat_minor": 1
}
