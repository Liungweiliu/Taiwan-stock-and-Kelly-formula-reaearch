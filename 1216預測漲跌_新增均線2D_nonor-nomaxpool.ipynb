{
 "cells": [
  {
   "cell_type": "code",
   "execution_count": 1,
   "metadata": {
    "collapsed": true
   },
   "outputs": [],
   "source": [
    "import pandas as pd\n",
    "import numpy as np\n",
    "# %matplotlib inline\n",
    "import matplotlib.pyplot as plt\n",
    "import matplotlib.font_manager as fm"
   ]
  },
  {
   "cell_type": "code",
   "execution_count": 2,
   "metadata": {
    "collapsed": true
   },
   "outputs": [],
   "source": [
    "#讀檔案"
   ]
  },
  {
   "cell_type": "code",
   "execution_count": 3,
   "metadata": {
    "collapsed": true
   },
   "outputs": [],
   "source": [
    "TW100 = pd.read_excel(\"TW100NMB.xlsx\")#Taiwan100 Stock Price Data"
   ]
  },
  {
   "cell_type": "code",
   "execution_count": 4,
   "metadata": {
    "collapsed": true
   },
   "outputs": [],
   "source": [
    "TW100Y = pd.read_excel(\"TW100Y.xlsx\")#預測KD用"
   ]
  },
  {
   "cell_type": "code",
   "execution_count": 5,
   "metadata": {
    "collapsed": false
   },
   "outputs": [],
   "source": [
    "X_Test = pd.read_excel(\"Test_X.xlsx\")"
   ]
  },
  {
   "cell_type": "code",
   "execution_count": 6,
   "metadata": {
    "collapsed": true
   },
   "outputs": [],
   "source": [
    "Y_Test = pd.read_excel(\"Test_Y.xlsx\")"
   ]
  },
  {
   "cell_type": "code",
   "execution_count": 7,
   "metadata": {
    "collapsed": true
   },
   "outputs": [],
   "source": [
    "#處理一下"
   ]
  },
  {
   "cell_type": "code",
   "execution_count": 8,
   "metadata": {
    "collapsed": false
   },
   "outputs": [
    {
     "data": {
      "text/plain": [
       "(34500, 17)"
      ]
     },
     "execution_count": 8,
     "metadata": {},
     "output_type": "execute_result"
    }
   ],
   "source": [
    "TW100.shape"
   ]
  },
  {
   "cell_type": "code",
   "execution_count": 9,
   "metadata": {
    "collapsed": false
   },
   "outputs": [
    {
     "data": {
      "text/plain": [
       "(31500, 11)"
      ]
     },
     "execution_count": 9,
     "metadata": {},
     "output_type": "execute_result"
    }
   ],
   "source": [
    "TW100Y.shape"
   ]
  },
  {
   "cell_type": "code",
   "execution_count": 10,
   "metadata": {
    "collapsed": false
   },
   "outputs": [
    {
     "data": {
      "text/plain": [
       "(17250, 16)"
      ]
     },
     "execution_count": 10,
     "metadata": {},
     "output_type": "execute_result"
    }
   ],
   "source": [
    "X_Test.shape"
   ]
  },
  {
   "cell_type": "code",
   "execution_count": 11,
   "metadata": {
    "collapsed": false
   },
   "outputs": [
    {
     "data": {
      "text/plain": [
       "(15750, 9)"
      ]
     },
     "execution_count": 11,
     "metadata": {},
     "output_type": "execute_result"
    }
   ],
   "source": [
    "Y_Test.shape"
   ]
  },
  {
   "cell_type": "code",
   "execution_count": 12,
   "metadata": {
    "collapsed": true
   },
   "outputs": [],
   "source": [
    "TW100NT = TW100.drop([\"年月日\",\"市值(百萬元)\",\"當日均價(元)\"] ,axis=1)"
   ]
  },
  {
   "cell_type": "code",
   "execution_count": 13,
   "metadata": {
    "collapsed": true
   },
   "outputs": [],
   "source": [
    "X_TestSP = X_Test.drop([\"年月日\",\"當日均價(元)\"] ,axis=1)"
   ]
  },
  {
   "cell_type": "code",
   "execution_count": 14,
   "metadata": {
    "collapsed": true
   },
   "outputs": [],
   "source": [
    "X_Train_SP = TW100NT.values"
   ]
  },
  {
   "cell_type": "code",
   "execution_count": 15,
   "metadata": {
    "collapsed": true
   },
   "outputs": [],
   "source": [
    "X_Test_SP = X_TestSP.values "
   ]
  },
  {
   "cell_type": "code",
   "execution_count": 16,
   "metadata": {
    "collapsed": true
   },
   "outputs": [],
   "source": [
    "L = [];"
   ]
  },
  {
   "cell_type": "code",
   "execution_count": 17,
   "metadata": {
    "collapsed": true
   },
   "outputs": [],
   "source": [
    "for j in range(0,34500,345):\n",
    "    for i in range(315):\n",
    "        a = X_Train_SP[(i+j):(i+j+30)];\n",
    "        L.append(a);\n",
    "    L"
   ]
  },
  {
   "cell_type": "code",
   "execution_count": 18,
   "metadata": {
    "collapsed": false
   },
   "outputs": [],
   "source": [
    "x_train = np.reshape(L,(31500,30,14,1))#X裡面沒放漲跌"
   ]
  },
  {
   "cell_type": "code",
   "execution_count": 19,
   "metadata": {
    "collapsed": false
   },
   "outputs": [
    {
     "data": {
      "text/plain": [
       "numpy.ndarray"
      ]
     },
     "execution_count": 19,
     "metadata": {},
     "output_type": "execute_result"
    }
   ],
   "source": [
    "type(x_train)"
   ]
  },
  {
   "cell_type": "code",
   "execution_count": 20,
   "metadata": {
    "collapsed": true
   },
   "outputs": [],
   "source": [
    "M = []"
   ]
  },
  {
   "cell_type": "code",
   "execution_count": 21,
   "metadata": {
    "collapsed": true
   },
   "outputs": [],
   "source": [
    "for j in range(0,17250,345):\n",
    "    for i in range(315):\n",
    "        a = X_Test_SP[(i+j):(i+j+30)];\n",
    "        M.append(a);\n",
    "    M"
   ]
  },
  {
   "cell_type": "code",
   "execution_count": 22,
   "metadata": {
    "collapsed": false,
    "scrolled": true
   },
   "outputs": [],
   "source": [
    "x_test = np.reshape(M,(15750,30,14,1))"
   ]
  },
  {
   "cell_type": "code",
   "execution_count": 23,
   "metadata": {
    "collapsed": false
   },
   "outputs": [
    {
     "data": {
      "text/plain": [
       "(15750, 30, 14, 1)"
      ]
     },
     "execution_count": 23,
     "metadata": {},
     "output_type": "execute_result"
    }
   ],
   "source": [
    "x_test.shape"
   ]
  },
  {
   "cell_type": "code",
   "execution_count": 24,
   "metadata": {
    "collapsed": false
   },
   "outputs": [
    {
     "data": {
      "text/plain": [
       "numpy.ndarray"
      ]
     },
     "execution_count": 24,
     "metadata": {},
     "output_type": "execute_result"
    }
   ],
   "source": [
    "type(x_test)"
   ]
  },
  {
   "cell_type": "code",
   "execution_count": 25,
   "metadata": {
    "collapsed": true
   },
   "outputs": [],
   "source": [
    "#處理答案"
   ]
  },
  {
   "cell_type": "code",
   "execution_count": 26,
   "metadata": {
    "collapsed": false
   },
   "outputs": [
    {
     "data": {
      "text/html": [
       "<div>\n",
       "<table border=\"1\" class=\"dataframe\">\n",
       "  <thead>\n",
       "    <tr style=\"text-align: right;\">\n",
       "      <th></th>\n",
       "      <th>7DaysRR</th>\n",
       "      <th>7DaysMAXP-30thCP</th>\n",
       "      <th>7DaysMAXP-1stOP</th>\n",
       "      <th>7DaysMINP-30thCP</th>\n",
       "      <th>7DaysMINP-1stOP</th>\n",
       "      <th>預測最大漲幅</th>\n",
       "      <th>預測最大跌幅</th>\n",
       "      <th>RSV</th>\n",
       "      <th>K值</th>\n",
       "      <th>D值</th>\n",
       "      <th>股價漲跌</th>\n",
       "    </tr>\n",
       "  </thead>\n",
       "  <tbody>\n",
       "    <tr>\n",
       "      <th>0</th>\n",
       "      <td>1.084176</td>\n",
       "      <td>0.88</td>\n",
       "      <td>0.92</td>\n",
       "      <td>0.42</td>\n",
       "      <td>0.46</td>\n",
       "      <td>2.847416</td>\n",
       "      <td>-0.990405</td>\n",
       "      <td>0.907631</td>\n",
       "      <td>0.922902</td>\n",
       "      <td>0.892995</td>\n",
       "      <td>0.20</td>\n",
       "    </tr>\n",
       "    <tr>\n",
       "      <th>1</th>\n",
       "      <td>-0.520979</td>\n",
       "      <td>0.69</td>\n",
       "      <td>0.64</td>\n",
       "      <td>0.19</td>\n",
       "      <td>0.14</td>\n",
       "      <td>1.963793</td>\n",
       "      <td>-1.841056</td>\n",
       "      <td>1.000000</td>\n",
       "      <td>0.948601</td>\n",
       "      <td>0.911530</td>\n",
       "      <td>0.25</td>\n",
       "    </tr>\n",
       "    <tr>\n",
       "      <th>2</th>\n",
       "      <td>-0.343474</td>\n",
       "      <td>0.46</td>\n",
       "      <td>0.41</td>\n",
       "      <td>-0.09</td>\n",
       "      <td>-0.14</td>\n",
       "      <td>1.249238</td>\n",
       "      <td>-2.528946</td>\n",
       "      <td>0.895522</td>\n",
       "      <td>0.930908</td>\n",
       "      <td>0.917989</td>\n",
       "      <td>0.10</td>\n",
       "    </tr>\n",
       "    <tr>\n",
       "      <th>3</th>\n",
       "      <td>-0.477533</td>\n",
       "      <td>0.37</td>\n",
       "      <td>0.37</td>\n",
       "      <td>-0.18</td>\n",
       "      <td>-0.18</td>\n",
       "      <td>1.125989</td>\n",
       "      <td>-2.647596</td>\n",
       "      <td>0.536232</td>\n",
       "      <td>0.799349</td>\n",
       "      <td>0.878443</td>\n",
       "      <td>-0.30</td>\n",
       "    </tr>\n",
       "    <tr>\n",
       "      <th>4</th>\n",
       "      <td>-0.220389</td>\n",
       "      <td>0.60</td>\n",
       "      <td>0.47</td>\n",
       "      <td>0.09</td>\n",
       "      <td>-0.04</td>\n",
       "      <td>1.436430</td>\n",
       "      <td>-2.231051</td>\n",
       "      <td>0.616667</td>\n",
       "      <td>0.738455</td>\n",
       "      <td>0.831780</td>\n",
       "      <td>0.20</td>\n",
       "    </tr>\n",
       "  </tbody>\n",
       "</table>\n",
       "</div>"
      ],
      "text/plain": [
       "    7DaysRR  7DaysMAXP-30thCP  7DaysMAXP-1stOP  7DaysMINP-30thCP  \\\n",
       "0  1.084176              0.88             0.92              0.42   \n",
       "1 -0.520979              0.69             0.64              0.19   \n",
       "2 -0.343474              0.46             0.41             -0.09   \n",
       "3 -0.477533              0.37             0.37             -0.18   \n",
       "4 -0.220389              0.60             0.47              0.09   \n",
       "\n",
       "   7DaysMINP-1stOP    預測最大漲幅    預測最大跌幅       RSV        K值        D值  股價漲跌  \n",
       "0             0.46  2.847416 -0.990405  0.907631  0.922902  0.892995  0.20  \n",
       "1             0.14  1.963793 -1.841056  1.000000  0.948601  0.911530  0.25  \n",
       "2            -0.14  1.249238 -2.528946  0.895522  0.930908  0.917989  0.10  \n",
       "3            -0.18  1.125989 -2.647596  0.536232  0.799349  0.878443 -0.30  \n",
       "4            -0.04  1.436430 -2.231051  0.616667  0.738455  0.831780  0.20  "
      ]
     },
     "execution_count": 26,
     "metadata": {},
     "output_type": "execute_result"
    }
   ],
   "source": [
    "TW100Y.head()"
   ]
  },
  {
   "cell_type": "code",
   "execution_count": 27,
   "metadata": {
    "collapsed": true
   },
   "outputs": [],
   "source": [
    "Y_train_7DRR = TW100Y[\"股價漲跌\"]"
   ]
  },
  {
   "cell_type": "code",
   "execution_count": 28,
   "metadata": {
    "collapsed": true
   },
   "outputs": [],
   "source": [
    "y_train = Y_train_7DRR.values"
   ]
  },
  {
   "cell_type": "code",
   "execution_count": 29,
   "metadata": {
    "collapsed": true
   },
   "outputs": [],
   "source": [
    "Y_test_7DRR = Y_Test[\"股價漲跌\"]"
   ]
  },
  {
   "cell_type": "code",
   "execution_count": 30,
   "metadata": {
    "collapsed": true
   },
   "outputs": [],
   "source": [
    "y_test = Y_test_7DRR.values"
   ]
  },
  {
   "cell_type": "code",
   "execution_count": 31,
   "metadata": {
    "collapsed": true
   },
   "outputs": [],
   "source": [
    "#看看答案"
   ]
  },
  {
   "cell_type": "code",
   "execution_count": 32,
   "metadata": {
    "collapsed": true
   },
   "outputs": [],
   "source": [
    "from scipy import stats"
   ]
  },
  {
   "cell_type": "code",
   "execution_count": 33,
   "metadata": {
    "collapsed": false
   },
   "outputs": [
    {
     "data": {
      "text/plain": [
       "DescribeResult(nobs=15750, minmax=(-11.5, 11.5), mean=0.020443174603174605, variance=0.57666916671796742, skewness=0.7628738158831643, kurtosis=32.31800203188507)"
      ]
     },
     "execution_count": 33,
     "metadata": {},
     "output_type": "execute_result"
    }
   ],
   "source": [
    "stats.describe(y_test)"
   ]
  },
  {
   "cell_type": "code",
   "execution_count": 34,
   "metadata": {
    "collapsed": false
   },
   "outputs": [
    {
     "data": {
      "text/plain": [
       "(array([   146.,    277.,    462.,   1123.,  11623.,  14211.,   1958.]),\n",
       " array([-5, -4, -3, -2, -1,  0,  1,  2]),\n",
       " <a list of 7 Patch objects>)"
      ]
     },
     "execution_count": 34,
     "metadata": {},
     "output_type": "execute_result"
    },
    {
     "data": {
      "image/png": "[encoded data removed]",
      "text/plain": [
       "<matplotlib.figure.Figure at 0x41ee3dad68>"
      ]
     },
     "metadata": {},
     "output_type": "display_data"
    }
   ],
   "source": [
    "%matplotlib inline\n",
    "#開始觀察資料決定區間\n",
    "bins = np.arange(-5, 3, 1)\n",
    "plt.hist(y_train, bins = bins, alpha = 0.5)"
   ]
  },
  {
   "cell_type": "code",
   "execution_count": 35,
   "metadata": {
    "collapsed": false
   },
   "outputs": [],
   "source": [
    "#Catogorize y_train\n",
    "y_train[(y_train<0)] = -1\n",
    "y_train[(y_train==0)] = 0\n",
    "y_train[(y_train>0)] = 1"
   ]
  },
  {
   "cell_type": "code",
   "execution_count": 36,
   "metadata": {
    "collapsed": true
   },
   "outputs": [],
   "source": [
    "#Catogorize y_train\n",
    "y_test[(y_test<0)] = -1\n",
    "y_test[(y_test==0)] = 0\n",
    "y_test[(y_test>0)] = 1"
   ]
  },
  {
   "cell_type": "code",
   "execution_count": 37,
   "metadata": {
    "collapsed": false
   },
   "outputs": [
    {
     "name": "stderr",
     "output_type": "stream",
     "text": [
      "Using TensorFlow backend.\n"
     ]
    }
   ],
   "source": [
    "#將Ｙ轉換型態\n",
    "from keras.utils import np_utils\n",
    "y_train_trans = np_utils.to_categorical(y_train,3)\n",
    "y_test_trans = np_utils.to_categorical(y_test,3)"
   ]
  },
  {
   "cell_type": "markdown",
   "metadata": {},
   "source": [
    "### Build the model"
   ]
  },
  {
   "cell_type": "code",
   "execution_count": 38,
   "metadata": {
    "collapsed": false,
    "scrolled": true
   },
   "outputs": [],
   "source": [
    "from keras.models import Sequential\n",
    "from keras.layers import Dense, Dropout, Activation, Flatten\n",
    "from keras.layers import Conv2D, MaxPooling2D\n",
    "from keras.optimizers import Adadelta,SGD,Adam"
   ]
  },
  {
   "cell_type": "code",
   "execution_count": 39,
   "metadata": {
    "collapsed": true
   },
   "outputs": [],
   "source": [
    "model = Sequential()"
   ]
  },
  {
   "cell_type": "code",
   "execution_count": 40,
   "metadata": {
    "collapsed": false
   },
   "outputs": [
    {
     "data": {
      "text/plain": [
       "array([[[[  0.        ,   0.        ,   2.11566973, ...,   3.32972813,\n",
       "            4.328969  ,   2.44274831],\n",
       "         [  0.        ,   0.        ,   0.        , ...,   0.69973207,\n",
       "            1.00259233,   2.75380659],\n",
       "         [  0.        ,   0.        ,   2.76142073, ...,   0.        ,\n",
       "            0.        ,   1.24692726],\n",
       "         ..., \n",
       "         [  0.        ,   0.        ,   0.        , ...,   3.3429215 ,\n",
       "            3.81790066,   2.99975204],\n",
       "         [  0.        ,   0.        ,   4.3668437 , ...,   0.69825435,\n",
       "            0.        ,   0.        ],\n",
       "         [  0.        ,   0.        ,   0.        , ...,   0.        ,\n",
       "            0.        ,   1.59370422]],\n",
       "\n",
       "        [[  0.        ,   0.        ,   6.29489851, ...,   0.89832664,\n",
       "            7.25492287,   0.        ],\n",
       "         [  0.        ,   0.        ,   2.57182646, ...,   0.10512996,\n",
       "            2.39589763,   0.        ],\n",
       "         [  0.        ,   0.        ,   4.72685289, ...,   0.        ,\n",
       "            0.        ,   0.        ],\n",
       "         ..., \n",
       "         [  0.        ,   0.        ,   5.23176622, ...,   0.        ,\n",
       "            5.05623579,   0.7471813 ],\n",
       "         [  0.        ,   0.        ,   6.41191387, ...,   0.        ,\n",
       "            0.        ,   0.17864454],\n",
       "         [  5.22746754,   0.        ,   0.        , ...,   0.        ,\n",
       "            0.        ,   0.        ]],\n",
       "\n",
       "        [[  0.        ,   0.        ,   6.4172411 , ...,   0.82666111,\n",
       "            7.30402374,   0.        ],\n",
       "         [  0.        ,   0.        ,   2.45834255, ...,   0.16480875,\n",
       "            2.33799243,   0.        ],\n",
       "         [  0.        ,   0.        ,   4.78019762, ...,   0.        ,\n",
       "            0.        ,   0.        ],\n",
       "         ..., \n",
       "         [  0.        ,   0.        ,   5.82854939, ...,   0.        ,\n",
       "            3.9449172 ,   0.        ],\n",
       "         [  0.        ,   0.        ,   7.37593365, ...,   0.        ,\n",
       "            0.        ,   0.        ],\n",
       "         [  6.71537161,   0.        ,   0.90421152, ...,   0.        ,\n",
       "            0.        ,   0.        ]],\n",
       "\n",
       "        ..., \n",
       "        [[  0.        ,   0.        ,   6.35400105, ...,   0.95551991,\n",
       "            7.15468693,   0.        ],\n",
       "         [  0.        ,   0.        ,   2.31204486, ...,   0.27589417,\n",
       "            2.2695415 ,   0.        ],\n",
       "         [  0.        ,   0.        ,   4.65461111, ...,   0.        ,\n",
       "            0.        ,   0.        ],\n",
       "         ..., \n",
       "         [  0.        ,   0.        ,   3.45562959, ...,   0.        ,\n",
       "            2.8531189 ,   0.        ],\n",
       "         [  0.        ,   0.        ,   6.09320831, ...,   0.        ,\n",
       "            0.        ,   0.        ],\n",
       "         [  4.28668261,   0.        ,   0.        , ...,   0.        ,\n",
       "            0.        ,   0.        ]],\n",
       "\n",
       "        [[  0.        ,   0.        ,   5.03064108, ...,   0.        ,\n",
       "            9.72263336,   0.        ],\n",
       "         [  0.        ,   0.        ,   3.73630095, ...,   0.        ,\n",
       "            6.13068962,   0.        ],\n",
       "         [  0.        ,   0.        ,   4.11664534, ...,   0.        ,\n",
       "            2.6005075 ,   0.        ],\n",
       "         ..., \n",
       "         [  0.        ,   0.        ,   4.87426758, ...,   0.        ,\n",
       "            7.52973747,   0.        ],\n",
       "         [  0.        ,   0.        ,   5.19617033, ...,   0.        ,\n",
       "            2.98078966,   0.        ],\n",
       "         [  4.08223915,   0.        ,   0.39306438, ...,   0.        ,\n",
       "            0.        ,   0.        ]],\n",
       "\n",
       "        [[  2.85818291,   0.        ,   7.55782461, ...,   0.        ,\n",
       "            6.2604475 ,   0.        ],\n",
       "         [  3.27546787,   0.        ,   4.86657047, ...,   0.        ,\n",
       "            3.54844165,   0.        ],\n",
       "         [  1.30107927,   0.        ,   3.13419223, ...,   0.        ,\n",
       "            1.59338975,   0.        ],\n",
       "         ..., \n",
       "         [  4.15700912,   0.        ,   6.00171471, ...,   0.        ,\n",
       "            4.32008266,   0.        ],\n",
       "         [  1.60922289,   0.        ,   3.64632177, ...,   0.        ,\n",
       "            1.73232436,   0.        ],\n",
       "         [  5.23583698,   0.        ,   0.        , ...,   0.        ,\n",
       "            0.        ,   0.        ]]],\n",
       "\n",
       "\n",
       "       [[[  0.        ,   0.        ,   2.1192584 , ...,   3.25084925,\n",
       "            4.34999657,   2.46505356],\n",
       "         [  0.        ,   0.        ,   0.        , ...,   0.64455962,\n",
       "            1.00872183,   2.90742159],\n",
       "         [  0.        ,   0.        ,   2.74266028, ...,   0.        ,\n",
       "            0.        ,   1.16318762],\n",
       "         ..., \n",
       "         [  0.        ,   0.        ,   2.39393997, ...,   0.        ,\n",
       "            3.72934866,   7.54754543],\n",
       "         [  0.        ,   0.        ,   4.39417982, ...,   0.        ,\n",
       "            0.        ,   4.4128294 ],\n",
       "         [  2.32661366,   0.        ,   0.        , ...,   0.        ,\n",
       "            0.        ,   3.80800629]],\n",
       "\n",
       "        [[  0.        ,   0.        ,   6.4172411 , ...,   0.82666111,\n",
       "            7.30402374,   0.        ],\n",
       "         [  0.        ,   0.        ,   2.45834255, ...,   0.16480875,\n",
       "            2.33799243,   0.        ],\n",
       "         [  0.        ,   0.        ,   4.78019762, ...,   0.        ,\n",
       "            0.        ,   0.        ],\n",
       "         ..., \n",
       "         [  0.        ,   0.        ,   5.82854939, ...,   0.        ,\n",
       "            3.9449172 ,   0.        ],\n",
       "         [  0.        ,   0.        ,   7.37593365, ...,   0.        ,\n",
       "            0.        ,   0.        ],\n",
       "         [  6.71537161,   0.        ,   0.90421152, ...,   0.        ,\n",
       "            0.        ,   0.        ]],\n",
       "\n",
       "        [[  0.        ,   0.        ,   6.40145254, ...,   0.77465773,\n",
       "            7.31043053,   0.        ],\n",
       "         [  0.        ,   0.        ,   2.52042913, ...,   0.16972375,\n",
       "            2.34929109,   0.        ],\n",
       "         [  0.        ,   0.        ,   4.76879692, ...,   0.        ,\n",
       "            0.        ,   0.        ],\n",
       "         ..., \n",
       "         [  0.        ,   0.        ,   2.63781834, ...,   0.05893588,\n",
       "            2.2127037 ,   0.        ],\n",
       "         [  0.        ,   0.        ,   5.06350422, ...,   0.        ,\n",
       "            0.        ,   0.        ],\n",
       "         [  3.52480912,   0.        ,   0.        , ...,   0.        ,\n",
       "            0.        ,   0.        ]],\n",
       "\n",
       "        ..., \n",
       "        [[  0.        ,   0.        ,   6.35090399, ...,   0.87907219,\n",
       "            7.30902767,   0.        ],\n",
       "         [  0.        ,   0.        ,   2.49773192, ...,   0.18874907,\n",
       "            2.39114356,   0.        ],\n",
       "         [  0.        ,   0.        ,   4.76505804, ...,   0.        ,\n",
       "            0.        ,   0.        ],\n",
       "         ..., \n",
       "         [  0.        ,   0.        ,   3.28453064, ...,   0.04241538,\n",
       "            2.54786062,   0.        ],\n",
       "         [  0.        ,   0.        ,   6.00112295, ...,   0.        ,\n",
       "            0.        ,   0.        ],\n",
       "         [  4.16462946,   0.        ,   0.        , ...,   0.        ,\n",
       "            0.        ,   0.        ]],\n",
       "\n",
       "        [[  0.        ,   0.        ,   5.10756779, ...,   0.        ,\n",
       "            9.77462387,   0.        ],\n",
       "         [  0.        ,   0.        ,   3.73573256, ...,   0.        ,\n",
       "            6.10226917,   0.        ],\n",
       "         [  0.        ,   0.        ,   4.15167236, ...,   0.        ,\n",
       "            2.64496136,   0.        ],\n",
       "         ..., \n",
       "         [  0.        ,   0.        ,   4.65947819, ...,   0.        ,\n",
       "            7.54894161,   0.        ],\n",
       "         [  0.        ,   0.        ,   5.13177156, ...,   0.        ,\n",
       "            2.91808033,   0.        ],\n",
       "         [  3.86792612,   0.        ,   0.34143043, ...,   0.        ,\n",
       "            0.        ,   0.        ]],\n",
       "\n",
       "        [[  2.8637569 ,   0.        ,   7.58024406, ...,   0.        ,\n",
       "            6.26292372,   0.        ],\n",
       "         [  3.27450418,   0.        ,   4.86689186, ...,   0.        ,\n",
       "            3.54226232,   0.        ],\n",
       "         [  1.30022097,   0.        ,   3.14896154, ...,   0.        ,\n",
       "            1.60654724,   0.        ],\n",
       "         ..., \n",
       "         [  4.23482323,   0.        ,   6.03884125, ...,   0.        ,\n",
       "            4.38371801,   0.        ],\n",
       "         [  1.58220577,   0.        ,   3.65887904, ...,   0.        ,\n",
       "            1.70111084,   0.        ],\n",
       "         [  5.26427364,   0.        ,   0.        , ...,   0.        ,\n",
       "            0.        ,   0.        ]]],\n",
       "\n",
       "\n",
       "       [[[  0.        ,   0.        ,   2.10067987, ...,   3.24471807,\n",
       "            4.35686779,   2.40700173],\n",
       "         [  0.        ,   0.        ,   0.        , ...,   0.6217382 ,\n",
       "            1.06027985,   2.90569854],\n",
       "         [  0.        ,   0.        ,   2.80047941, ...,   0.        ,\n",
       "            0.        ,   1.18972158],\n",
       "         ..., \n",
       "         [  0.        ,   0.        ,   0.        , ...,   0.27684128,\n",
       "            1.04788709,   3.26578474],\n",
       "         [  0.        ,   0.        ,   3.04664564, ...,   0.        ,\n",
       "            0.        ,   1.29926431],\n",
       "         [  0.61267918,   0.        ,   0.        , ...,   0.        ,\n",
       "            0.        ,   1.20178282]],\n",
       "\n",
       "        [[  0.        ,   0.        ,   6.40145254, ...,   0.77465773,\n",
       "            7.31043053,   0.        ],\n",
       "         [  0.        ,   0.        ,   2.52042913, ...,   0.16972375,\n",
       "            2.34929109,   0.        ],\n",
       "         [  0.        ,   0.        ,   4.76879692, ...,   0.        ,\n",
       "            0.        ,   0.        ],\n",
       "         ..., \n",
       "         [  0.        ,   0.        ,   2.63781834, ...,   0.05893588,\n",
       "            2.2127037 ,   0.        ],\n",
       "         [  0.        ,   0.        ,   5.06350422, ...,   0.        ,\n",
       "            0.        ,   0.        ],\n",
       "         [  3.52480912,   0.        ,   0.        , ...,   0.        ,\n",
       "            0.        ,   0.        ]],\n",
       "\n",
       "        [[  0.        ,   0.        ,   6.41136122, ...,   0.88822961,\n",
       "            7.29038858,   0.        ],\n",
       "         [  0.        ,   0.        ,   2.57066917, ...,   0.16126084,\n",
       "            2.25217748,   0.        ],\n",
       "         [  0.        ,   0.        ,   4.69168997, ...,   0.        ,\n",
       "            0.        ,   0.        ],\n",
       "         ..., \n",
       "         [  0.        ,   0.        ,   2.52940059, ...,   0.1770556 ,\n",
       "            2.24472165,   0.        ],\n",
       "         [  0.        ,   0.        ,   5.03557491, ...,   0.        ,\n",
       "            0.        ,   0.        ],\n",
       "         [  3.39312959,   0.        ,   0.        , ...,   0.        ,\n",
       "            0.        ,   0.        ]],\n",
       "\n",
       "        ..., \n",
       "        [[  0.        ,   0.        ,   6.44156933, ...,   0.82872868,\n",
       "            7.35080051,   0.        ],\n",
       "         [  0.        ,   0.        ,   2.51110005, ...,   0.15895844,\n",
       "            2.35085654,   0.        ],\n",
       "         [  0.        ,   0.        ,   4.7682786 , ...,   0.        ,\n",
       "            0.        ,   0.        ],\n",
       "         ..., \n",
       "         [  0.        ,   0.        ,   3.0940361 , ...,   0.16165209,\n",
       "            2.64058208,   0.        ],\n",
       "         [  0.        ,   0.        ,   5.94072008, ...,   0.        ,\n",
       "            0.        ,   0.        ],\n",
       "         [  3.94948435,   0.        ,   0.        , ...,   0.        ,\n",
       "            0.        ,   0.        ]],\n",
       "\n",
       "        [[  0.        ,   0.        ,   5.14187288, ...,   0.        ,\n",
       "            9.77393723,   0.        ],\n",
       "         [  0.        ,   0.        ,   3.73574877, ...,   0.        ,\n",
       "            6.0986805 ,   0.        ],\n",
       "         [  0.        ,   0.        ,   4.16692305, ...,   0.        ,\n",
       "            2.65173244,   0.        ],\n",
       "         ..., \n",
       "         [  0.        ,   0.        ,   4.70699739, ...,   0.        ,\n",
       "            7.57627296,   0.        ],\n",
       "         [  0.        ,   0.        ,   5.12208223, ...,   0.        ,\n",
       "            2.87852979,   0.        ],\n",
       "         [  3.9113915 ,   0.        ,   0.28679943, ...,   0.        ,\n",
       "            0.        ,   0.        ]],\n",
       "\n",
       "        [[  2.83854675,   0.        ,   7.56510878, ...,   0.        ,\n",
       "            6.23619938,   0.        ],\n",
       "         [  3.26524591,   0.        ,   4.8637619 , ...,   0.        ,\n",
       "            3.55907035,   0.        ],\n",
       "         [  1.30009174,   0.        ,   3.15091991, ...,   0.        ,\n",
       "            1.61623383,   0.        ],\n",
       "         ..., \n",
       "         [  4.25575113,   0.        ,   6.11153412, ...,   0.        ,\n",
       "            4.38956404,   0.        ],\n",
       "         [  1.63762593,   0.        ,   3.70040751, ...,   0.        ,\n",
       "            1.75402856,   0.        ],\n",
       "         [  5.33369732,   0.        ,   0.        , ...,   0.        ,\n",
       "            0.        ,   0.        ]]],\n",
       "\n",
       "\n",
       "       ..., \n",
       "       [[[  0.        ,   0.        ,   5.3410697 , ...,   8.31451988,\n",
       "           11.05514622,   6.21449947],\n",
       "         [  0.        ,   0.        ,   0.        , ...,   1.80181122,\n",
       "            2.68686295,   7.35596132],\n",
       "         [  0.        ,   0.        ,   7.37385941, ...,   0.        ,\n",
       "            0.        ,   2.82329297],\n",
       "         ..., \n",
       "         [  0.        ,   0.        ,   0.        , ...,   1.85156989,\n",
       "            2.44846916,   6.08178806],\n",
       "         [  0.        ,   0.        ,   6.50388098, ...,   0.        ,\n",
       "            0.        ,   2.21377134],\n",
       "         [  1.37227142,   0.        ,   0.        , ...,   0.        ,\n",
       "            0.        ,   2.18954897]],\n",
       "\n",
       "        [[  0.        ,   0.        ,  16.43983078, ...,   2.35838127,\n",
       "           18.53749847,   0.        ],\n",
       "         [  0.        ,   0.        ,   6.1870079 , ...,   0.56735659,\n",
       "            5.87872887,   0.        ],\n",
       "         [  0.        ,   0.        ,  12.35988331, ...,   0.        ,\n",
       "            0.        ,   0.        ],\n",
       "         ..., \n",
       "         [  0.        ,   0.        ,   5.1244235 , ...,   0.38187599,\n",
       "            5.15660667,   0.        ],\n",
       "         [  0.        ,   0.        ,  10.61000538, ...,   0.        ,\n",
       "            0.        ,   0.        ],\n",
       "         [  7.25320816,   0.        ,   0.        , ...,   0.        ,\n",
       "            0.        ,   0.        ]],\n",
       "\n",
       "        [[  0.        ,   0.        ,  16.423769  , ...,   2.51159716,\n",
       "           18.64879227,   0.        ],\n",
       "         [  0.        ,   0.        ,   6.38244963, ...,   0.73022079,\n",
       "            5.87557411,   0.        ],\n",
       "         [  0.        ,   0.        ,  12.39103508, ...,   0.        ,\n",
       "            0.        ,   0.        ],\n",
       "         ..., \n",
       "         [  0.        ,   0.        ,   5.18532801, ...,   0.56616879,\n",
       "            5.24606943,   0.        ],\n",
       "         [  0.        ,   0.        ,  10.79471588, ...,   0.        ,\n",
       "            0.        ,   0.        ],\n",
       "         [  7.37567472,   0.        ,   0.        , ...,   0.        ,\n",
       "            0.        ,   0.        ]],\n",
       "\n",
       "        ..., \n",
       "        [[  0.        ,   0.        ,  16.40595055, ...,   2.15189505,\n",
       "           18.53750801,   0.        ],\n",
       "         [  0.        ,   0.        ,   6.2339859 , ...,   0.4092536 ,\n",
       "            5.9641161 ,   0.        ],\n",
       "         [  0.        ,   0.        ,  12.46286488, ...,   0.        ,\n",
       "            0.        ,   0.        ],\n",
       "         ..., \n",
       "         [  0.        ,   0.        ,   5.18822813, ...,   0.34072542,\n",
       "            5.09311819,   0.        ],\n",
       "         [  0.        ,   0.        ,  10.31915855, ...,   0.        ,\n",
       "            0.        ,   0.        ],\n",
       "         [  7.0781002 ,   0.        ,   0.        , ...,   0.        ,\n",
       "            0.        ,   0.        ]],\n",
       "\n",
       "        [[  0.        ,   0.        ,  12.94689751, ...,   0.        ,\n",
       "           24.68958282,   0.        ],\n",
       "         [  0.        ,   0.        ,   9.42588997, ...,   0.        ,\n",
       "           15.44706917,   0.        ],\n",
       "         [  0.        ,   0.        ,  10.63750839, ...,   0.        ,\n",
       "            6.25562096,   0.        ],\n",
       "         ..., \n",
       "         [  0.        ,   0.        ,   7.86191034, ...,   0.        ,\n",
       "           12.77100658,   0.        ],\n",
       "         [  0.        ,   0.        ,   8.73899269, ...,   0.        ,\n",
       "            5.15908957,   0.        ],\n",
       "         [  6.85403395,   0.        ,   0.73444378, ...,   0.        ,\n",
       "            0.        ,   0.        ]],\n",
       "\n",
       "        [[  7.25761366,   0.        ,  19.11924171, ...,   0.        ,\n",
       "           15.85165405,   0.        ],\n",
       "         [  8.29709053,   0.        ,  12.30852795, ...,   0.        ,\n",
       "            8.9441967 ,   0.        ],\n",
       "         [  2.96452522,   0.        ,   7.68842936, ...,   0.        ,\n",
       "            3.77140856,   0.        ],\n",
       "         ..., \n",
       "         [  6.80714893,   0.        ,  10.18245506, ...,   0.        ,\n",
       "            7.46589231,   0.        ],\n",
       "         [  2.39299273,   0.        ,   6.42911816, ...,   0.        ,\n",
       "            3.17705441,   0.        ],\n",
       "         [  8.9674511 ,   0.        ,   0.        , ...,   0.        ,\n",
       "            0.        ,   0.        ]]],\n",
       "\n",
       "\n",
       "       [[[  0.        ,   0.        ,   5.50643539, ...,   8.48081589,\n",
       "           11.05041122,   6.27194786],\n",
       "         [  0.        ,   0.        ,   0.        , ...,   1.75364828,\n",
       "            2.65447187,   7.40040827],\n",
       "         [  0.        ,   0.        ,   7.43359184, ...,   0.        ,\n",
       "            0.        ,   2.89062524],\n",
       "         ..., \n",
       "         [  0.        ,   0.        ,   0.        , ...,   1.48135471,\n",
       "            2.42566442,   6.37316513],\n",
       "         [  0.        ,   0.        ,   6.54570961, ...,   0.        ,\n",
       "            0.        ,   2.36856198],\n",
       "         [  1.48007762,   0.        ,   0.        , ...,   0.        ,\n",
       "            0.        ,   2.27960443]],\n",
       "\n",
       "        [[  0.        ,   0.        ,  16.423769  , ...,   2.51159716,\n",
       "           18.64879227,   0.        ],\n",
       "         [  0.        ,   0.        ,   6.38244963, ...,   0.73022079,\n",
       "            5.87557411,   0.        ],\n",
       "         [  0.        ,   0.        ,  12.39103508, ...,   0.        ,\n",
       "            0.        ,   0.        ],\n",
       "         ..., \n",
       "         [  0.        ,   0.        ,   5.18532801, ...,   0.56616879,\n",
       "            5.24606943,   0.        ],\n",
       "         [  0.        ,   0.        ,  10.79471588, ...,   0.        ,\n",
       "            0.        ,   0.        ],\n",
       "         [  7.37567472,   0.        ,   0.        , ...,   0.        ,\n",
       "            0.        ,   0.        ]],\n",
       "\n",
       "        [[  0.        ,   0.        ,  16.47663498, ...,   2.4973855 ,\n",
       "           18.79964256,   0.        ],\n",
       "         [  0.        ,   0.        ,   6.20175552, ...,   0.53833914,\n",
       "            5.9882021 ,   0.        ],\n",
       "         [  0.        ,   0.        ,  12.67066669, ...,   0.        ,\n",
       "            0.        ,   0.        ],\n",
       "         ..., \n",
       "         [  0.        ,   0.        ,   5.21026468, ...,   0.42513084,\n",
       "            5.21209192,   0.        ],\n",
       "         [  0.        ,   0.        ,  10.72019958, ...,   0.        ,\n",
       "            0.        ,   0.        ],\n",
       "         [  7.36187696,   0.        ,   0.        , ...,   0.        ,\n",
       "            0.        ,   0.        ]],\n",
       "\n",
       "        ..., \n",
       "        [[  0.        ,   0.        ,  16.3404808 , ...,   1.99412775,\n",
       "           18.55758286,   0.        ],\n",
       "         [  0.        ,   0.        ,   6.26866293, ...,   0.47725058,\n",
       "            6.01626587,   0.        ],\n",
       "         [  0.        ,   0.        ,  12.48178959, ...,   0.        ,\n",
       "            0.        ,   0.        ],\n",
       "         ..., \n",
       "         [  0.        ,   0.        ,   5.28541565, ...,   0.49772835,\n",
       "            5.0096941 ,   0.        ],\n",
       "         [  0.        ,   0.        ,  10.30878448, ...,   0.        ,\n",
       "            0.        ,   0.        ],\n",
       "         [  7.03001547,   0.        ,   0.        , ...,   0.        ,\n",
       "            0.        ,   0.        ]],\n",
       "\n",
       "        [[  0.        ,   0.        ,  12.97994804, ...,   0.        ,\n",
       "           24.69721031,   0.        ],\n",
       "         [  0.        ,   0.        ,   9.46855354, ...,   0.        ,\n",
       "           15.35948658,   0.        ],\n",
       "         [  0.        ,   0.        ,  10.58033752, ...,   0.        ,\n",
       "            6.16995621,   0.        ],\n",
       "         ..., \n",
       "         [  0.        ,   0.        ,   7.752285  , ...,   0.        ,\n",
       "           12.84222984,   0.        ],\n",
       "         [  0.        ,   0.        ,   8.82232952, ...,   0.        ,\n",
       "            5.19311523,   0.        ],\n",
       "         [  6.8234024 ,   0.        ,   0.67241979, ...,   0.        ,\n",
       "            0.        ,   0.        ]],\n",
       "\n",
       "        [[  7.20052767,   0.        ,  19.13632202, ...,   0.        ,\n",
       "           15.76752853,   0.        ],\n",
       "         [  8.27415466,   0.        ,  12.21853447, ...,   0.        ,\n",
       "            8.91434288,   0.        ],\n",
       "         [  2.94685793,   0.        ,   7.70993948, ...,   0.        ,\n",
       "            3.78579569,   0.        ],\n",
       "         ..., \n",
       "         [  6.84875298,   0.        ,  10.19458771, ...,   0.        ,\n",
       "            7.47417879,   0.        ],\n",
       "         [  2.38496685,   0.        ,   6.41483498, ...,   0.        ,\n",
       "            3.16074133,   0.        ],\n",
       "         [  8.96195889,   0.        ,   0.        , ...,   0.        ,\n",
       "            0.        ,   0.        ]]],\n",
       "\n",
       "\n",
       "       [[[  0.        ,   0.        ,   5.42329836, ...,   8.67827415,\n",
       "           11.09382248,   6.31800413],\n",
       "         [  0.        ,   0.        ,   0.        , ...,   1.96705246,\n",
       "            2.55934477,   7.45765066],\n",
       "         [  0.        ,   0.        ,   7.40180683, ...,   0.        ,\n",
       "            0.        ,   2.77979755],\n",
       "         ..., \n",
       "         [  0.        ,   0.        ,   0.        , ...,   1.62368107,\n",
       "            2.50611019,   6.33360195],\n",
       "         [  0.        ,   0.        ,   6.62998581, ...,   0.        ,\n",
       "            0.        ,   2.35904717],\n",
       "         [  1.4447242 ,   0.        ,   0.        , ...,   0.        ,\n",
       "            0.        ,   2.25833225]],\n",
       "\n",
       "        [[  0.        ,   0.        ,  16.47663498, ...,   2.4973855 ,\n",
       "           18.79964256,   0.        ],\n",
       "         [  0.        ,   0.        ,   6.20175552, ...,   0.53833914,\n",
       "            5.9882021 ,   0.        ],\n",
       "         [  0.        ,   0.        ,  12.67066669, ...,   0.        ,\n",
       "            0.        ,   0.        ],\n",
       "         ..., \n",
       "         [  0.        ,   0.        ,   5.21026468, ...,   0.42513084,\n",
       "            5.21209192,   0.        ],\n",
       "         [  0.        ,   0.        ,  10.72019958, ...,   0.        ,\n",
       "            0.        ,   0.        ],\n",
       "         [  7.36187696,   0.        ,   0.        , ...,   0.        ,\n",
       "            0.        ,   0.        ]],\n",
       "\n",
       "        [[  0.        ,   0.        ,  16.55619049, ...,   2.20039558,\n",
       "           19.31957626,   0.        ],\n",
       "         [  0.        ,   0.        ,   6.62081528, ...,   0.56697989,\n",
       "            6.13900375,   0.        ],\n",
       "         [  0.        ,   0.        ,  12.73927784, ...,   0.        ,\n",
       "            0.        ,   0.        ],\n",
       "         ..., \n",
       "         [  0.        ,   0.        ,   5.39542913, ...,   0.44982672,\n",
       "            5.496346  ,   0.        ],\n",
       "         [  0.        ,   0.        ,  10.75184536, ...,   0.        ,\n",
       "            0.        ,   0.        ],\n",
       "         [  7.4130435 ,   0.        ,   0.        , ...,   0.        ,\n",
       "            0.        ,   0.        ]],\n",
       "\n",
       "        ..., \n",
       "        [[  0.        ,   0.        ,  16.31229782, ...,   2.00151873,\n",
       "           18.62388039,   0.        ],\n",
       "         [  0.        ,   0.        ,   6.33474874, ...,   0.33928967,\n",
       "            5.9747057 ,   0.        ],\n",
       "         [  0.        ,   0.        ,  12.48111629, ...,   0.        ,\n",
       "            0.        ,   0.        ],\n",
       "         ..., \n",
       "         [  0.        ,   0.        ,   5.18093824, ...,   0.50266027,\n",
       "            5.04584742,   0.        ],\n",
       "         [  0.        ,   0.        ,  10.34801483, ...,   0.        ,\n",
       "            0.        ,   0.        ],\n",
       "         [  7.00514507,   0.        ,   0.        , ...,   0.        ,\n",
       "            0.        ,   0.        ]],\n",
       "\n",
       "        [[  0.        ,   0.        ,  12.98361588, ...,   0.        ,\n",
       "           24.59079361,   0.        ],\n",
       "         [  0.        ,   0.        ,   9.4218235 , ...,   0.        ,\n",
       "           15.28247929,   0.        ],\n",
       "         [  0.        ,   0.        ,  10.57231522, ...,   0.        ,\n",
       "            6.19468498,   0.        ],\n",
       "         ..., \n",
       "         [  0.        ,   0.        ,   7.73608398, ...,   0.        ,\n",
       "           12.88352489,   0.        ],\n",
       "         [  0.        ,   0.        ,   8.83918381, ...,   0.        ,\n",
       "            5.15754128,   0.        ],\n",
       "         [  6.83326912,   0.        ,   0.65067542, ...,   0.        ,\n",
       "            0.        ,   0.        ]],\n",
       "\n",
       "        [[  7.20351362,   0.        ,  19.00341225, ...,   0.        ,\n",
       "           15.72951317,   0.        ],\n",
       "         [  8.17840958,   0.        ,  12.20316315, ...,   0.        ,\n",
       "            8.85076714,   0.        ],\n",
       "         [  2.97438502,   0.        ,   7.6227231 , ...,   0.        ,\n",
       "            3.74813318,   0.        ],\n",
       "         ..., \n",
       "         [  6.90846252,   0.        ,  10.23433304, ...,   0.        ,\n",
       "            7.53666592,   0.        ],\n",
       "         [  2.36602759,   0.        ,   6.43088007, ...,   0.        ,\n",
       "            3.15224791,   0.        ],\n",
       "         [  9.00958347,   0.        ,   0.        , ...,   0.        ,\n",
       "            0.        ,   0.        ]]]], dtype=float32)"
      ]
     },
     "execution_count": 40,
     "metadata": {},
     "output_type": "execute_result"
    }
   ],
   "source": [
    "model.add(Conv2D(10, (4, 4), padding='same', activation='relu', input_shape=(30,14,1)))\n",
    "model.predict(x_test, batch_size=32, verbose=0)"
   ]
  },
  {
   "cell_type": "code",
   "execution_count": 41,
   "metadata": {
    "collapsed": false
   },
   "outputs": [
    {
     "data": {
      "text/plain": [
       "array([[[[  0.00000000e+00,   0.00000000e+00,   2.00444341e+00, ...,\n",
       "            8.62268150e-01,   0.00000000e+00,   0.00000000e+00],\n",
       "         [  0.00000000e+00,   0.00000000e+00,   1.05265355e+00, ...,\n",
       "            0.00000000e+00,   0.00000000e+00,   0.00000000e+00],\n",
       "         [  0.00000000e+00,   4.24281216e+00,   2.23538327e+00, ...,\n",
       "            0.00000000e+00,   0.00000000e+00,   0.00000000e+00],\n",
       "         ..., \n",
       "         [  0.00000000e+00,   4.11123812e-01,   3.49485350e+00, ...,\n",
       "            2.24132895e+00,   0.00000000e+00,   0.00000000e+00],\n",
       "         [  0.00000000e+00,   0.00000000e+00,   5.29984951e-01, ...,\n",
       "            2.72086954e+00,   0.00000000e+00,   0.00000000e+00],\n",
       "         [  0.00000000e+00,   0.00000000e+00,   0.00000000e+00, ...,\n",
       "            9.84373629e-01,   0.00000000e+00,   0.00000000e+00]],\n",
       "\n",
       "        [[  0.00000000e+00,   0.00000000e+00,   2.68383241e+00, ...,\n",
       "            4.23546195e-01,   0.00000000e+00,   0.00000000e+00],\n",
       "         [  0.00000000e+00,   0.00000000e+00,   9.25874829e-01, ...,\n",
       "            7.81292439e-01,   0.00000000e+00,   0.00000000e+00],\n",
       "         [  0.00000000e+00,   4.72052002e+00,   0.00000000e+00, ...,\n",
       "            0.00000000e+00,   0.00000000e+00,   0.00000000e+00],\n",
       "         ..., \n",
       "         [  0.00000000e+00,   0.00000000e+00,   3.45709443e+00, ...,\n",
       "            8.90271783e-01,   0.00000000e+00,   0.00000000e+00],\n",
       "         [  3.97117466e-01,   0.00000000e+00,   4.77176666e+00, ...,\n",
       "            1.71407509e+00,   0.00000000e+00,   0.00000000e+00],\n",
       "         [  0.00000000e+00,   0.00000000e+00,   2.78345883e-01, ...,\n",
       "            2.04849100e+00,   0.00000000e+00,   0.00000000e+00]],\n",
       "\n",
       "        [[  0.00000000e+00,   0.00000000e+00,   2.34586120e+00, ...,\n",
       "            0.00000000e+00,   0.00000000e+00,   0.00000000e+00],\n",
       "         [  0.00000000e+00,   2.40219235e-02,   8.02543104e-01, ...,\n",
       "            5.75676560e-03,   0.00000000e+00,   0.00000000e+00],\n",
       "         [  0.00000000e+00,   6.24116993e+00,   0.00000000e+00, ...,\n",
       "            0.00000000e+00,   0.00000000e+00,   0.00000000e+00],\n",
       "         ..., \n",
       "         [  0.00000000e+00,   2.54298186e+00,   2.78237176e+00, ...,\n",
       "            0.00000000e+00,   0.00000000e+00,   0.00000000e+00],\n",
       "         [  1.18752956e+00,   0.00000000e+00,   2.79469776e+00, ...,\n",
       "            1.41527259e+00,   0.00000000e+00,   0.00000000e+00],\n",
       "         [  0.00000000e+00,   0.00000000e+00,   2.13252559e-01, ...,\n",
       "            1.40784788e+00,   0.00000000e+00,   0.00000000e+00]],\n",
       "\n",
       "        ..., \n",
       "        [[  0.00000000e+00,   0.00000000e+00,   3.24097228e+00, ...,\n",
       "            8.41505229e-01,   0.00000000e+00,   0.00000000e+00],\n",
       "         [  0.00000000e+00,   0.00000000e+00,   1.22844160e+00, ...,\n",
       "            9.14874196e-01,   0.00000000e+00,   0.00000000e+00],\n",
       "         [  0.00000000e+00,   8.06801701e+00,   1.72156572e-01, ...,\n",
       "            0.00000000e+00,   0.00000000e+00,   0.00000000e+00],\n",
       "         ..., \n",
       "         [  0.00000000e+00,   1.83448327e+00,   4.11862898e+00, ...,\n",
       "            6.91329420e-01,   0.00000000e+00,   0.00000000e+00],\n",
       "         [  0.00000000e+00,   0.00000000e+00,   3.00332189e+00, ...,\n",
       "            2.56530190e+00,   0.00000000e+00,   0.00000000e+00],\n",
       "         [  0.00000000e+00,   0.00000000e+00,   0.00000000e+00, ...,\n",
       "            1.21870768e+00,   0.00000000e+00,   0.00000000e+00]],\n",
       "\n",
       "        [[  0.00000000e+00,   1.55915990e-02,   2.10135841e+00, ...,\n",
       "            0.00000000e+00,   0.00000000e+00,   0.00000000e+00],\n",
       "         [  0.00000000e+00,   0.00000000e+00,   0.00000000e+00, ...,\n",
       "            0.00000000e+00,   0.00000000e+00,   0.00000000e+00],\n",
       "         [  0.00000000e+00,   2.33766603e+00,   0.00000000e+00, ...,\n",
       "            0.00000000e+00,   0.00000000e+00,   0.00000000e+00],\n",
       "         ..., \n",
       "         [  0.00000000e+00,   0.00000000e+00,   9.79963899e-01, ...,\n",
       "            0.00000000e+00,   0.00000000e+00,   0.00000000e+00],\n",
       "         [  0.00000000e+00,   0.00000000e+00,   2.97237992e+00, ...,\n",
       "            0.00000000e+00,   9.49421942e-01,   0.00000000e+00],\n",
       "         [  0.00000000e+00,   0.00000000e+00,   0.00000000e+00, ...,\n",
       "            2.21253484e-01,   1.03721917e+00,   0.00000000e+00]],\n",
       "\n",
       "        [[  0.00000000e+00,   0.00000000e+00,   2.33985472e+00, ...,\n",
       "            5.99038780e-01,   0.00000000e+00,   0.00000000e+00],\n",
       "         [  0.00000000e+00,   0.00000000e+00,   2.76526928e-01, ...,\n",
       "            2.68092942e+00,   6.33112490e-01,   0.00000000e+00],\n",
       "         [  0.00000000e+00,   2.19292712e+00,   0.00000000e+00, ...,\n",
       "            1.06517899e+00,   0.00000000e+00,   0.00000000e+00],\n",
       "         ..., \n",
       "         [  0.00000000e+00,   0.00000000e+00,   1.83798754e+00, ...,\n",
       "            1.87847519e+00,   0.00000000e+00,   0.00000000e+00],\n",
       "         [  1.64235309e-01,   0.00000000e+00,   2.30795646e+00, ...,\n",
       "            3.07803750e+00,   0.00000000e+00,   0.00000000e+00],\n",
       "         [  0.00000000e+00,   0.00000000e+00,   0.00000000e+00, ...,\n",
       "            2.99554682e+00,   8.42393339e-01,   0.00000000e+00]]],\n",
       "\n",
       "\n",
       "       [[[  0.00000000e+00,   0.00000000e+00,   2.01434517e+00, ...,\n",
       "            8.77586782e-01,   0.00000000e+00,   0.00000000e+00],\n",
       "         [  0.00000000e+00,   0.00000000e+00,   5.74881315e-01, ...,\n",
       "            3.73200893e-01,   0.00000000e+00,   0.00000000e+00],\n",
       "         [  0.00000000e+00,   4.89831400e+00,   2.54320574e+00, ...,\n",
       "            5.00495851e-01,   0.00000000e+00,   0.00000000e+00],\n",
       "         ..., \n",
       "         [  0.00000000e+00,   0.00000000e+00,   4.17037296e+00, ...,\n",
       "            2.88361788e+00,   0.00000000e+00,   0.00000000e+00],\n",
       "         [  0.00000000e+00,   0.00000000e+00,   1.65792871e+00, ...,\n",
       "            1.24987781e+00,   0.00000000e+00,   0.00000000e+00],\n",
       "         [  0.00000000e+00,   0.00000000e+00,   0.00000000e+00, ...,\n",
       "            3.21601957e-01,   0.00000000e+00,   0.00000000e+00]],\n",
       "\n",
       "        [[  0.00000000e+00,   0.00000000e+00,   2.68206811e+00, ...,\n",
       "            3.62284452e-01,   0.00000000e+00,   0.00000000e+00],\n",
       "         [  0.00000000e+00,   0.00000000e+00,   9.37878132e-01, ...,\n",
       "            5.76266646e-01,   0.00000000e+00,   0.00000000e+00],\n",
       "         [  0.00000000e+00,   4.29121065e+00,   0.00000000e+00, ...,\n",
       "            0.00000000e+00,   0.00000000e+00,   0.00000000e+00],\n",
       "         ..., \n",
       "         [  0.00000000e+00,   0.00000000e+00,   4.15147972e+00, ...,\n",
       "            6.66675419e-02,   0.00000000e+00,   0.00000000e+00],\n",
       "         [  9.78580236e-01,   0.00000000e+00,   4.97251177e+00, ...,\n",
       "            2.33378911e+00,   0.00000000e+00,   0.00000000e+00],\n",
       "         [  0.00000000e+00,   0.00000000e+00,   1.36362171e+00, ...,\n",
       "            2.35164976e+00,   0.00000000e+00,   0.00000000e+00]],\n",
       "\n",
       "        [[  0.00000000e+00,   0.00000000e+00,   2.34971905e+00, ...,\n",
       "            0.00000000e+00,   0.00000000e+00,   0.00000000e+00],\n",
       "         [  0.00000000e+00,   0.00000000e+00,   9.98956919e-01, ...,\n",
       "            1.97946191e-01,   0.00000000e+00,   0.00000000e+00],\n",
       "         [  0.00000000e+00,   4.98676491e+00,   0.00000000e+00, ...,\n",
       "            0.00000000e+00,   0.00000000e+00,   0.00000000e+00],\n",
       "         ..., \n",
       "         [  0.00000000e+00,   1.76784706e+00,   2.48379588e+00, ...,\n",
       "            0.00000000e+00,   0.00000000e+00,   0.00000000e+00],\n",
       "         [  2.02285618e-01,   0.00000000e+00,   2.00905824e+00, ...,\n",
       "            1.29906762e+00,   0.00000000e+00,   0.00000000e+00],\n",
       "         [  0.00000000e+00,   0.00000000e+00,   0.00000000e+00, ...,\n",
       "            1.00522637e+00,   0.00000000e+00,   0.00000000e+00]],\n",
       "\n",
       "        ..., \n",
       "        [[  0.00000000e+00,   0.00000000e+00,   3.18658304e+00, ...,\n",
       "            7.92468250e-01,   0.00000000e+00,   0.00000000e+00],\n",
       "         [  0.00000000e+00,   0.00000000e+00,   1.19285643e+00, ...,\n",
       "            9.91618574e-01,   0.00000000e+00,   0.00000000e+00],\n",
       "         [  0.00000000e+00,   7.92764950e+00,   0.00000000e+00, ...,\n",
       "            0.00000000e+00,   0.00000000e+00,   0.00000000e+00],\n",
       "         ..., \n",
       "         [  0.00000000e+00,   1.26890218e+00,   4.34159231e+00, ...,\n",
       "            8.83481622e-01,   0.00000000e+00,   0.00000000e+00],\n",
       "         [  0.00000000e+00,   0.00000000e+00,   3.39397502e+00, ...,\n",
       "            2.61356211e+00,   0.00000000e+00,   0.00000000e+00],\n",
       "         [  0.00000000e+00,   0.00000000e+00,   0.00000000e+00, ...,\n",
       "            1.30958200e+00,   0.00000000e+00,   0.00000000e+00]],\n",
       "\n",
       "        [[  0.00000000e+00,   7.47366697e-02,   2.15175414e+00, ...,\n",
       "            0.00000000e+00,   0.00000000e+00,   0.00000000e+00],\n",
       "         [  0.00000000e+00,   0.00000000e+00,   0.00000000e+00, ...,\n",
       "            0.00000000e+00,   0.00000000e+00,   0.00000000e+00],\n",
       "         [  0.00000000e+00,   2.41113663e+00,   0.00000000e+00, ...,\n",
       "            0.00000000e+00,   0.00000000e+00,   0.00000000e+00],\n",
       "         ..., \n",
       "         [  0.00000000e+00,   2.34144166e-01,   7.46450782e-01, ...,\n",
       "            0.00000000e+00,   0.00000000e+00,   0.00000000e+00],\n",
       "         [  0.00000000e+00,   0.00000000e+00,   2.91217446e+00, ...,\n",
       "            0.00000000e+00,   1.02535427e+00,   0.00000000e+00],\n",
       "         [  0.00000000e+00,   0.00000000e+00,   0.00000000e+00, ...,\n",
       "            2.87631989e-01,   1.17504680e+00,   0.00000000e+00]],\n",
       "\n",
       "        [[  0.00000000e+00,   0.00000000e+00,   2.33248234e+00, ...,\n",
       "            6.05277598e-01,   0.00000000e+00,   0.00000000e+00],\n",
       "         [  0.00000000e+00,   0.00000000e+00,   3.30635726e-01, ...,\n",
       "            2.65889192e+00,   6.64502740e-01,   0.00000000e+00],\n",
       "         [  0.00000000e+00,   2.18256640e+00,   0.00000000e+00, ...,\n",
       "            1.10262215e+00,   0.00000000e+00,   0.00000000e+00],\n",
       "         ..., \n",
       "         [  0.00000000e+00,   0.00000000e+00,   1.72226238e+00, ...,\n",
       "            2.02687812e+00,   0.00000000e+00,   0.00000000e+00],\n",
       "         [  1.15452759e-01,   0.00000000e+00,   2.23534727e+00, ...,\n",
       "            3.11336923e+00,   0.00000000e+00,   0.00000000e+00],\n",
       "         [  0.00000000e+00,   0.00000000e+00,   0.00000000e+00, ...,\n",
       "            3.01523948e+00,   8.75251055e-01,   0.00000000e+00]]],\n",
       "\n",
       "\n",
       "       [[[  0.00000000e+00,   0.00000000e+00,   2.02291369e+00, ...,\n",
       "            8.99735749e-01,   0.00000000e+00,   0.00000000e+00],\n",
       "         [  0.00000000e+00,   0.00000000e+00,   4.98675257e-01, ...,\n",
       "            2.24550664e-01,   0.00000000e+00,   0.00000000e+00],\n",
       "         [  0.00000000e+00,   4.00766993e+00,   1.51083183e+00, ...,\n",
       "            2.29561359e-01,   0.00000000e+00,   0.00000000e+00],\n",
       "         ..., \n",
       "         [  0.00000000e+00,   5.14856935e-01,   2.66944528e+00, ...,\n",
       "            1.29445457e+00,   0.00000000e+00,   0.00000000e+00],\n",
       "         [  0.00000000e+00,   0.00000000e+00,   5.23090363e-01, ...,\n",
       "            7.54853606e-01,   0.00000000e+00,   0.00000000e+00],\n",
       "         [  0.00000000e+00,   0.00000000e+00,   0.00000000e+00, ...,\n",
       "            3.54645513e-02,   0.00000000e+00,   0.00000000e+00]],\n",
       "\n",
       "        [[  0.00000000e+00,   0.00000000e+00,   2.65249467e+00, ...,\n",
       "            3.81321609e-01,   0.00000000e+00,   0.00000000e+00],\n",
       "         [  0.00000000e+00,   0.00000000e+00,   1.29853904e+00, ...,\n",
       "            6.33232474e-01,   0.00000000e+00,   0.00000000e+00],\n",
       "         [  0.00000000e+00,   3.78642178e+00,   0.00000000e+00, ...,\n",
       "            2.20672995e-01,   0.00000000e+00,   0.00000000e+00],\n",
       "         ..., \n",
       "         [  0.00000000e+00,   3.51399988e-01,   3.27593017e+00, ...,\n",
       "            2.39507705e-01,   0.00000000e+00,   0.00000000e+00],\n",
       "         [  1.59166813e-01,   0.00000000e+00,   2.96274900e+00, ...,\n",
       "            1.77624798e+00,   0.00000000e+00,   0.00000000e+00],\n",
       "         [  0.00000000e+00,   0.00000000e+00,   2.85657436e-01, ...,\n",
       "            1.26163220e+00,   0.00000000e+00,   0.00000000e+00]],\n",
       "\n",
       "        [[  0.00000000e+00,   0.00000000e+00,   2.36177254e+00, ...,\n",
       "            0.00000000e+00,   0.00000000e+00,   0.00000000e+00],\n",
       "         [  0.00000000e+00,   0.00000000e+00,   9.54121351e-01, ...,\n",
       "            3.73413920e-01,   0.00000000e+00,   0.00000000e+00],\n",
       "         [  0.00000000e+00,   4.88526201e+00,   0.00000000e+00, ...,\n",
       "            5.08250594e-02,   0.00000000e+00,   0.00000000e+00],\n",
       "         ..., \n",
       "         [  0.00000000e+00,   1.65010631e+00,   2.46266794e+00, ...,\n",
       "            0.00000000e+00,   0.00000000e+00,   0.00000000e+00],\n",
       "         [  1.07184827e-01,   0.00000000e+00,   2.01284266e+00, ...,\n",
       "            1.21030664e+00,   0.00000000e+00,   0.00000000e+00],\n",
       "         [  0.00000000e+00,   0.00000000e+00,   0.00000000e+00, ...,\n",
       "            1.01652300e+00,   0.00000000e+00,   0.00000000e+00]],\n",
       "\n",
       "        ..., \n",
       "        [[  0.00000000e+00,   0.00000000e+00,   3.20400262e+00, ...,\n",
       "            7.90800154e-01,   0.00000000e+00,   0.00000000e+00],\n",
       "         [  0.00000000e+00,   3.68095376e-03,   1.06692243e+00, ...,\n",
       "            1.07192838e+00,   0.00000000e+00,   0.00000000e+00],\n",
       "         [  0.00000000e+00,   8.02665234e+00,   0.00000000e+00, ...,\n",
       "            0.00000000e+00,   0.00000000e+00,   0.00000000e+00],\n",
       "         ..., \n",
       "         [  0.00000000e+00,   1.29458928e+00,   4.71314335e+00, ...,\n",
       "            6.61978126e-01,   0.00000000e+00,   0.00000000e+00],\n",
       "         [  0.00000000e+00,   0.00000000e+00,   3.34464788e+00, ...,\n",
       "            2.56002069e+00,   0.00000000e+00,   0.00000000e+00],\n",
       "         [  0.00000000e+00,   0.00000000e+00,   0.00000000e+00, ...,\n",
       "            1.41215718e+00,   0.00000000e+00,   0.00000000e+00]],\n",
       "\n",
       "        [[  0.00000000e+00,   1.75374951e-02,   2.19275403e+00, ...,\n",
       "            0.00000000e+00,   0.00000000e+00,   0.00000000e+00],\n",
       "         [  0.00000000e+00,   0.00000000e+00,   0.00000000e+00, ...,\n",
       "            0.00000000e+00,   0.00000000e+00,   0.00000000e+00],\n",
       "         [  0.00000000e+00,   2.40418005e+00,   0.00000000e+00, ...,\n",
       "            0.00000000e+00,   0.00000000e+00,   0.00000000e+00],\n",
       "         ..., \n",
       "         [  0.00000000e+00,   2.40146324e-01,   6.51539922e-01, ...,\n",
       "            0.00000000e+00,   0.00000000e+00,   0.00000000e+00],\n",
       "         [  0.00000000e+00,   0.00000000e+00,   2.82132769e+00, ...,\n",
       "            0.00000000e+00,   1.10003746e+00,   0.00000000e+00],\n",
       "         [  0.00000000e+00,   0.00000000e+00,   0.00000000e+00, ...,\n",
       "            2.99443275e-01,   1.25639582e+00,   0.00000000e+00]],\n",
       "\n",
       "        [[  0.00000000e+00,   0.00000000e+00,   2.33666492e+00, ...,\n",
       "            6.02268636e-01,   0.00000000e+00,   0.00000000e+00],\n",
       "         [  0.00000000e+00,   0.00000000e+00,   4.14777577e-01, ...,\n",
       "            2.67315388e+00,   6.30089164e-01,   0.00000000e+00],\n",
       "         [  0.00000000e+00,   2.12855291e+00,   0.00000000e+00, ...,\n",
       "            1.19659674e+00,   0.00000000e+00,   0.00000000e+00],\n",
       "         ..., \n",
       "         [  0.00000000e+00,   0.00000000e+00,   1.73011422e+00, ...,\n",
       "            2.13681436e+00,   0.00000000e+00,   0.00000000e+00],\n",
       "         [  0.00000000e+00,   0.00000000e+00,   2.15564799e+00, ...,\n",
       "            3.26065207e+00,   0.00000000e+00,   0.00000000e+00],\n",
       "         [  0.00000000e+00,   0.00000000e+00,   0.00000000e+00, ...,\n",
       "            2.94920683e+00,   8.51814270e-01,   0.00000000e+00]]],\n",
       "\n",
       "\n",
       "       ..., \n",
       "       [[[  0.00000000e+00,   0.00000000e+00,   4.97821522e+00, ...,\n",
       "            2.62615991e+00,   0.00000000e+00,   0.00000000e+00],\n",
       "         [  0.00000000e+00,   0.00000000e+00,   2.75165081e-01, ...,\n",
       "            8.36408019e-01,   0.00000000e+00,   0.00000000e+00],\n",
       "         [  0.00000000e+00,   8.27810097e+00,   2.29126787e+00, ...,\n",
       "            1.23091590e+00,   0.00000000e+00,   1.00727797e+00],\n",
       "         ..., \n",
       "         [  0.00000000e+00,   1.92705286e+00,   5.38720322e+00, ...,\n",
       "            2.72178459e+00,   0.00000000e+00,   0.00000000e+00],\n",
       "         [  0.00000000e+00,   0.00000000e+00,   1.06893206e+00, ...,\n",
       "            2.11405945e+00,   0.00000000e+00,   0.00000000e+00],\n",
       "         [  0.00000000e+00,   0.00000000e+00,   0.00000000e+00, ...,\n",
       "            4.96693999e-01,   0.00000000e+00,   0.00000000e+00]],\n",
       "\n",
       "        [[  0.00000000e+00,   0.00000000e+00,   6.82438850e+00, ...,\n",
       "            1.06329393e+00,   0.00000000e+00,   0.00000000e+00],\n",
       "         [  0.00000000e+00,   0.00000000e+00,   2.97777319e+00, ...,\n",
       "            2.01027560e+00,   0.00000000e+00,   0.00000000e+00],\n",
       "         [  0.00000000e+00,   8.00467777e+00,   0.00000000e+00, ...,\n",
       "            1.53387690e+00,   0.00000000e+00,   0.00000000e+00],\n",
       "         ..., \n",
       "         [  0.00000000e+00,   1.68776345e+00,   6.29751968e+00, ...,\n",
       "            1.60782576e-01,   0.00000000e+00,   0.00000000e+00],\n",
       "         [  6.55192137e-02,   0.00000000e+00,   5.71885920e+00, ...,\n",
       "            3.19026685e+00,   0.00000000e+00,   0.00000000e+00],\n",
       "         [  0.00000000e+00,   0.00000000e+00,   5.25792301e-01, ...,\n",
       "            2.32786369e+00,   0.00000000e+00,   0.00000000e+00]],\n",
       "\n",
       "        [[  0.00000000e+00,   0.00000000e+00,   6.25938797e+00, ...,\n",
       "            0.00000000e+00,   0.00000000e+00,   0.00000000e+00],\n",
       "         [  0.00000000e+00,   0.00000000e+00,   2.23291254e+00, ...,\n",
       "            1.26353264e+00,   0.00000000e+00,   0.00000000e+00],\n",
       "         [  0.00000000e+00,   1.03022070e+01,   0.00000000e+00, ...,\n",
       "            1.10559964e+00,   0.00000000e+00,   0.00000000e+00],\n",
       "         ..., \n",
       "         [  0.00000000e+00,   3.98494458e+00,   5.14366388e+00, ...,\n",
       "            0.00000000e+00,   0.00000000e+00,   0.00000000e+00],\n",
       "         [  3.65681350e-01,   0.00000000e+00,   4.15086174e+00, ...,\n",
       "            2.43435383e+00,   0.00000000e+00,   0.00000000e+00],\n",
       "         [  0.00000000e+00,   0.00000000e+00,   0.00000000e+00, ...,\n",
       "            2.07200456e+00,   0.00000000e+00,   0.00000000e+00]],\n",
       "\n",
       "        ..., \n",
       "        [[  0.00000000e+00,   0.00000000e+00,   8.32479191e+00, ...,\n",
       "            2.26490021e+00,   0.00000000e+00,   0.00000000e+00],\n",
       "         [  0.00000000e+00,   0.00000000e+00,   1.59714329e+00, ...,\n",
       "            3.75569510e+00,   0.00000000e+00,   0.00000000e+00],\n",
       "         [  0.00000000e+00,   1.33418837e+01,   0.00000000e+00, ...,\n",
       "            4.03366089e-02,   0.00000000e+00,   0.00000000e+00],\n",
       "         ..., \n",
       "         [  0.00000000e+00,   3.70035958e+00,   6.68073320e+00, ...,\n",
       "            8.12156796e-02,   0.00000000e+00,   0.00000000e+00],\n",
       "         [  0.00000000e+00,   0.00000000e+00,   5.36372566e+00, ...,\n",
       "            3.72555375e+00,   0.00000000e+00,   0.00000000e+00],\n",
       "         [  0.00000000e+00,   0.00000000e+00,   0.00000000e+00, ...,\n",
       "            2.60804248e+00,   0.00000000e+00,   0.00000000e+00]],\n",
       "\n",
       "        [[  0.00000000e+00,   8.60357098e-03,   5.65243149e+00, ...,\n",
       "            0.00000000e+00,   5.56086488e-02,   0.00000000e+00],\n",
       "         [  0.00000000e+00,   0.00000000e+00,   0.00000000e+00, ...,\n",
       "            0.00000000e+00,   2.03787699e-01,   0.00000000e+00],\n",
       "         [  0.00000000e+00,   2.61892176e+00,   0.00000000e+00, ...,\n",
       "            0.00000000e+00,   0.00000000e+00,   0.00000000e+00],\n",
       "         ..., \n",
       "         [  0.00000000e+00,   1.19333255e+00,   6.56841099e-01, ...,\n",
       "            0.00000000e+00,   0.00000000e+00,   0.00000000e+00],\n",
       "         [  2.27793306e-03,   0.00000000e+00,   4.56127310e+00, ...,\n",
       "            0.00000000e+00,   1.89284861e+00,   0.00000000e+00],\n",
       "         [  0.00000000e+00,   0.00000000e+00,   0.00000000e+00, ...,\n",
       "            6.06113851e-01,   1.95697093e+00,   0.00000000e+00]],\n",
       "\n",
       "        [[  0.00000000e+00,   0.00000000e+00,   5.91012859e+00, ...,\n",
       "            1.26617777e+00,   0.00000000e+00,   0.00000000e+00],\n",
       "         [  0.00000000e+00,   0.00000000e+00,   8.65554214e-01, ...,\n",
       "            6.94183302e+00,   1.71469736e+00,   0.00000000e+00],\n",
       "         [  0.00000000e+00,   2.89401960e+00,   0.00000000e+00, ...,\n",
       "            3.28287721e+00,   0.00000000e+00,   0.00000000e+00],\n",
       "         ..., \n",
       "         [  0.00000000e+00,   0.00000000e+00,   2.40790939e+00, ...,\n",
       "            2.97915053e+00,   0.00000000e+00,   0.00000000e+00],\n",
       "         [  1.90034449e-01,   0.00000000e+00,   3.68434358e+00, ...,\n",
       "            4.80413961e+00,   0.00000000e+00,   0.00000000e+00],\n",
       "         [  0.00000000e+00,   0.00000000e+00,   0.00000000e+00, ...,\n",
       "            4.87727880e+00,   1.41201711e+00,   0.00000000e+00]]],\n",
       "\n",
       "\n",
       "       [[[  0.00000000e+00,   0.00000000e+00,   4.92370844e+00, ...,\n",
       "            2.46542382e+00,   0.00000000e+00,   0.00000000e+00],\n",
       "         [  0.00000000e+00,   0.00000000e+00,   3.61806035e-01, ...,\n",
       "            7.71988213e-01,   0.00000000e+00,   0.00000000e+00],\n",
       "         [  0.00000000e+00,   8.19383430e+00,   2.20805407e+00, ...,\n",
       "            1.22144151e+00,   0.00000000e+00,   7.86502242e-01],\n",
       "         ..., \n",
       "         [  0.00000000e+00,   1.71246171e+00,   5.51267385e+00, ...,\n",
       "            2.57100439e+00,   0.00000000e+00,   0.00000000e+00],\n",
       "         [  0.00000000e+00,   0.00000000e+00,   1.26427698e+00, ...,\n",
       "            2.01888895e+00,   0.00000000e+00,   0.00000000e+00],\n",
       "         [  0.00000000e+00,   0.00000000e+00,   0.00000000e+00, ...,\n",
       "            4.60761368e-01,   0.00000000e+00,   0.00000000e+00]],\n",
       "\n",
       "        [[  0.00000000e+00,   0.00000000e+00,   6.99028635e+00, ...,\n",
       "            1.22996342e+00,   0.00000000e+00,   0.00000000e+00],\n",
       "         [  0.00000000e+00,   0.00000000e+00,   2.98154879e+00, ...,\n",
       "            2.16624808e+00,   0.00000000e+00,   0.00000000e+00],\n",
       "         [  0.00000000e+00,   7.98278427e+00,   0.00000000e+00, ...,\n",
       "            1.58535075e+00,   0.00000000e+00,   0.00000000e+00],\n",
       "         ..., \n",
       "         [  0.00000000e+00,   1.61024237e+00,   6.24432325e+00, ...,\n",
       "            4.78152394e-01,   0.00000000e+00,   0.00000000e+00],\n",
       "         [  2.17297554e-01,   0.00000000e+00,   5.77187777e+00, ...,\n",
       "            3.43144584e+00,   0.00000000e+00,   0.00000000e+00],\n",
       "         [  0.00000000e+00,   0.00000000e+00,   5.17069101e-01, ...,\n",
       "            2.48856187e+00,   0.00000000e+00,   0.00000000e+00]],\n",
       "\n",
       "        [[  0.00000000e+00,   0.00000000e+00,   6.28013706e+00, ...,\n",
       "            0.00000000e+00,   0.00000000e+00,   0.00000000e+00],\n",
       "         [  0.00000000e+00,   0.00000000e+00,   2.31965828e+00, ...,\n",
       "            1.31336951e+00,   0.00000000e+00,   0.00000000e+00],\n",
       "         [  0.00000000e+00,   1.02220268e+01,   0.00000000e+00, ...,\n",
       "            1.29087877e+00,   0.00000000e+00,   0.00000000e+00],\n",
       "         ..., \n",
       "         [  0.00000000e+00,   3.92244816e+00,   5.05484247e+00, ...,\n",
       "            0.00000000e+00,   0.00000000e+00,   0.00000000e+00],\n",
       "         [  3.59779179e-01,   0.00000000e+00,   4.25622654e+00, ...,\n",
       "            2.17863011e+00,   0.00000000e+00,   0.00000000e+00],\n",
       "         [  0.00000000e+00,   0.00000000e+00,   1.59882978e-02, ...,\n",
       "            2.01065922e+00,   0.00000000e+00,   0.00000000e+00]],\n",
       "\n",
       "        ..., \n",
       "        [[  0.00000000e+00,   0.00000000e+00,   8.28872108e+00, ...,\n",
       "            2.22757435e+00,   0.00000000e+00,   0.00000000e+00],\n",
       "         [  0.00000000e+00,   0.00000000e+00,   1.55626082e+00, ...,\n",
       "            3.77737832e+00,   0.00000000e+00,   0.00000000e+00],\n",
       "         [  0.00000000e+00,   1.33090477e+01,   0.00000000e+00, ...,\n",
       "            1.07315779e-01,   0.00000000e+00,   0.00000000e+00],\n",
       "         ..., \n",
       "         [  0.00000000e+00,   3.67436457e+00,   6.67796755e+00, ...,\n",
       "            1.20357841e-01,   0.00000000e+00,   0.00000000e+00],\n",
       "         [  0.00000000e+00,   0.00000000e+00,   5.37876844e+00, ...,\n",
       "            3.69058061e+00,   0.00000000e+00,   0.00000000e+00],\n",
       "         [  0.00000000e+00,   0.00000000e+00,   0.00000000e+00, ...,\n",
       "            2.64404607e+00,   0.00000000e+00,   0.00000000e+00]],\n",
       "\n",
       "        [[  0.00000000e+00,   0.00000000e+00,   5.66328096e+00, ...,\n",
       "            0.00000000e+00,   1.01495638e-01,   0.00000000e+00],\n",
       "         [  0.00000000e+00,   0.00000000e+00,   0.00000000e+00, ...,\n",
       "            0.00000000e+00,   2.29651034e-01,   0.00000000e+00],\n",
       "         [  0.00000000e+00,   2.65146017e+00,   0.00000000e+00, ...,\n",
       "            0.00000000e+00,   0.00000000e+00,   0.00000000e+00],\n",
       "         ..., \n",
       "         [  0.00000000e+00,   1.20391822e+00,   6.08026028e-01, ...,\n",
       "            0.00000000e+00,   0.00000000e+00,   0.00000000e+00],\n",
       "         [  0.00000000e+00,   0.00000000e+00,   4.57512045e+00, ...,\n",
       "            0.00000000e+00,   1.90112269e+00,   0.00000000e+00],\n",
       "         [  0.00000000e+00,   0.00000000e+00,   0.00000000e+00, ...,\n",
       "            5.73763669e-01,   1.94373631e+00,   0.00000000e+00]],\n",
       "\n",
       "        [[  0.00000000e+00,   0.00000000e+00,   5.92416048e+00, ...,\n",
       "            1.28102076e+00,   0.00000000e+00,   0.00000000e+00],\n",
       "         [  0.00000000e+00,   0.00000000e+00,   8.56818855e-01, ...,\n",
       "            6.89803028e+00,   1.76124060e+00,   0.00000000e+00],\n",
       "         [  0.00000000e+00,   2.90981102e+00,   0.00000000e+00, ...,\n",
       "            3.27018356e+00,   0.00000000e+00,   0.00000000e+00],\n",
       "         ..., \n",
       "         [  0.00000000e+00,   0.00000000e+00,   2.44924879e+00, ...,\n",
       "            2.99349713e+00,   0.00000000e+00,   0.00000000e+00],\n",
       "         [  1.36340946e-01,   0.00000000e+00,   3.63501763e+00, ...,\n",
       "            4.83759642e+00,   0.00000000e+00,   0.00000000e+00],\n",
       "         [  0.00000000e+00,   0.00000000e+00,   0.00000000e+00, ...,\n",
       "            4.88520575e+00,   1.38025057e+00,   0.00000000e+00]]],\n",
       "\n",
       "\n",
       "       [[[  0.00000000e+00,   0.00000000e+00,   5.05186462e+00, ...,\n",
       "            2.40840340e+00,   0.00000000e+00,   0.00000000e+00],\n",
       "         [  0.00000000e+00,   0.00000000e+00,   3.78566682e-01, ...,\n",
       "            7.57405639e-01,   0.00000000e+00,   0.00000000e+00],\n",
       "         [  0.00000000e+00,   7.99601650e+00,   2.17506266e+00, ...,\n",
       "            1.37532377e+00,   0.00000000e+00,   7.33375430e-01],\n",
       "         ..., \n",
       "         [  0.00000000e+00,   1.92244935e+00,   5.44866276e+00, ...,\n",
       "            2.49419785e+00,   0.00000000e+00,   0.00000000e+00],\n",
       "         [  0.00000000e+00,   0.00000000e+00,   1.27960253e+00, ...,\n",
       "            2.11556387e+00,   0.00000000e+00,   0.00000000e+00],\n",
       "         [  0.00000000e+00,   0.00000000e+00,   0.00000000e+00, ...,\n",
       "            4.84161675e-01,   0.00000000e+00,   0.00000000e+00]],\n",
       "\n",
       "        [[  0.00000000e+00,   0.00000000e+00,   7.03077221e+00, ...,\n",
       "            1.25938880e+00,   0.00000000e+00,   0.00000000e+00],\n",
       "         [  0.00000000e+00,   0.00000000e+00,   2.93529963e+00, ...,\n",
       "            2.14724422e+00,   0.00000000e+00,   0.00000000e+00],\n",
       "         [  0.00000000e+00,   7.91792870e+00,   0.00000000e+00, ...,\n",
       "            1.59524441e+00,   0.00000000e+00,   0.00000000e+00],\n",
       "         ..., \n",
       "         [  0.00000000e+00,   1.63467324e+00,   6.39994335e+00, ...,\n",
       "            5.38734376e-01,   0.00000000e+00,   0.00000000e+00],\n",
       "         [  2.99688280e-01,   0.00000000e+00,   5.74171686e+00, ...,\n",
       "            3.50007486e+00,   0.00000000e+00,   0.00000000e+00],\n",
       "         [  0.00000000e+00,   0.00000000e+00,   4.75398600e-01, ...,\n",
       "            2.52110791e+00,   0.00000000e+00,   0.00000000e+00]],\n",
       "\n",
       "        [[  0.00000000e+00,   0.00000000e+00,   6.20067167e+00, ...,\n",
       "            0.00000000e+00,   0.00000000e+00,   0.00000000e+00],\n",
       "         [  0.00000000e+00,   0.00000000e+00,   2.28026772e+00, ...,\n",
       "            1.42582941e+00,   0.00000000e+00,   0.00000000e+00],\n",
       "         [  0.00000000e+00,   1.02772408e+01,   0.00000000e+00, ...,\n",
       "            1.40285718e+00,   0.00000000e+00,   0.00000000e+00],\n",
       "         ..., \n",
       "         [  0.00000000e+00,   3.96179509e+00,   5.01391840e+00, ...,\n",
       "            0.00000000e+00,   0.00000000e+00,   0.00000000e+00],\n",
       "         [  4.35070336e-01,   0.00000000e+00,   4.25888968e+00, ...,\n",
       "            2.13714933e+00,   0.00000000e+00,   0.00000000e+00],\n",
       "         [  0.00000000e+00,   0.00000000e+00,   8.83065909e-02, ...,\n",
       "            1.99537790e+00,   0.00000000e+00,   0.00000000e+00]],\n",
       "\n",
       "        ..., \n",
       "        [[  0.00000000e+00,   0.00000000e+00,   8.25600624e+00, ...,\n",
       "            2.09444976e+00,   0.00000000e+00,   0.00000000e+00],\n",
       "         [  0.00000000e+00,   0.00000000e+00,   1.56414998e+00, ...,\n",
       "            3.81115174e+00,   0.00000000e+00,   0.00000000e+00],\n",
       "         [  0.00000000e+00,   1.33602886e+01,   0.00000000e+00, ...,\n",
       "            1.05456352e-01,   0.00000000e+00,   0.00000000e+00],\n",
       "         ..., \n",
       "         [  0.00000000e+00,   3.62342882e+00,   6.69348383e+00, ...,\n",
       "            2.07588792e-01,   0.00000000e+00,   0.00000000e+00],\n",
       "         [  0.00000000e+00,   0.00000000e+00,   5.38424110e+00, ...,\n",
       "            3.75019240e+00,   0.00000000e+00,   0.00000000e+00],\n",
       "         [  0.00000000e+00,   0.00000000e+00,   0.00000000e+00, ...,\n",
       "            2.65817142e+00,   0.00000000e+00,   0.00000000e+00]],\n",
       "\n",
       "        [[  0.00000000e+00,   0.00000000e+00,   5.68347692e+00, ...,\n",
       "            0.00000000e+00,   8.45681354e-02,   0.00000000e+00],\n",
       "         [  0.00000000e+00,   0.00000000e+00,   0.00000000e+00, ...,\n",
       "            0.00000000e+00,   1.79615572e-01,   0.00000000e+00],\n",
       "         [  0.00000000e+00,   2.69073391e+00,   0.00000000e+00, ...,\n",
       "            0.00000000e+00,   0.00000000e+00,   0.00000000e+00],\n",
       "         ..., \n",
       "         [  0.00000000e+00,   1.25127172e+00,   6.02918744e-01, ...,\n",
       "            0.00000000e+00,   0.00000000e+00,   0.00000000e+00],\n",
       "         [  0.00000000e+00,   0.00000000e+00,   4.55203724e+00, ...,\n",
       "            0.00000000e+00,   1.93662739e+00,   0.00000000e+00],\n",
       "         [  0.00000000e+00,   0.00000000e+00,   0.00000000e+00, ...,\n",
       "            5.77842057e-01,   1.95402873e+00,   0.00000000e+00]],\n",
       "\n",
       "        [[  0.00000000e+00,   0.00000000e+00,   5.89065313e+00, ...,\n",
       "            1.22740650e+00,   0.00000000e+00,   0.00000000e+00],\n",
       "         [  0.00000000e+00,   0.00000000e+00,   9.06906962e-01, ...,\n",
       "            6.87464142e+00,   1.77939296e+00,   0.00000000e+00],\n",
       "         [  0.00000000e+00,   2.94245982e+00,   0.00000000e+00, ...,\n",
       "            3.26529932e+00,   0.00000000e+00,   0.00000000e+00],\n",
       "         ..., \n",
       "         [  0.00000000e+00,   0.00000000e+00,   2.44874024e+00, ...,\n",
       "            3.05483055e+00,   0.00000000e+00,   0.00000000e+00],\n",
       "         [  1.16088919e-01,   0.00000000e+00,   3.62496877e+00, ...,\n",
       "            4.87647486e+00,   0.00000000e+00,   0.00000000e+00],\n",
       "         [  0.00000000e+00,   0.00000000e+00,   0.00000000e+00, ...,\n",
       "            4.90157795e+00,   1.38650322e+00,   0.00000000e+00]]]], dtype=float32)"
      ]
     },
     "execution_count": 41,
     "metadata": {},
     "output_type": "execute_result"
    }
   ],
   "source": [
    "model.add(MaxPooling2D(pool_size=(2, 2)))\n",
    "model.add(Conv2D(20, (4, 4), padding='same', activation='relu'))\n",
    "model.predict(x_test, batch_size=32, verbose=0)"
   ]
  },
  {
   "cell_type": "code",
   "execution_count": 42,
   "metadata": {
    "collapsed": false
   },
   "outputs": [
    {
     "data": {
      "text/plain": [
       "array([[[[ 0.        ,  0.        ,  0.        , ...,  0.        ,\n",
       "           0.58000869,  0.        ],\n",
       "         [ 0.30021375,  1.25639844,  0.57611376, ...,  0.        ,\n",
       "           0.20197052,  0.        ],\n",
       "         [ 0.40166143,  1.48775709,  0.        , ...,  0.05546724,\n",
       "           0.83719504,  1.33609211]],\n",
       "\n",
       "        [[ 0.        ,  0.30210787,  0.        , ...,  0.        ,\n",
       "           1.00706339,  0.        ],\n",
       "         [ 0.        ,  1.86329579,  0.        , ...,  0.        ,\n",
       "           0.        ,  1.44908917],\n",
       "         [ 0.52914518,  1.30363023,  0.        , ...,  0.        ,\n",
       "           0.25643209,  2.22189116]],\n",
       "\n",
       "        [[ 0.        ,  0.85190666,  0.        , ...,  0.04889701,\n",
       "           0.45262823,  0.        ],\n",
       "         [ 0.01447016,  2.2926023 ,  0.        , ...,  0.        ,\n",
       "           0.        ,  1.24754798],\n",
       "         [ 0.04320964,  1.70473218,  0.        , ...,  0.        ,\n",
       "           0.2666744 ,  2.19180751]],\n",
       "\n",
       "        ..., \n",
       "        [[ 0.        ,  0.15939277,  0.        , ...,  0.        ,\n",
       "           0.89530408,  0.        ],\n",
       "         [ 0.        ,  2.39070129,  0.        , ...,  0.        ,\n",
       "           0.        ,  1.40651262],\n",
       "         [ 0.01665073,  1.66513336,  0.        , ...,  0.43747109,\n",
       "           0.95769024,  2.36810112]],\n",
       "\n",
       "        [[ 0.        ,  0.        ,  0.        , ...,  0.36882266,\n",
       "           0.46562582,  0.        ],\n",
       "         [ 0.13754827,  0.37958604,  0.3578251 , ...,  0.        ,\n",
       "           0.        ,  1.90379345],\n",
       "         [ 0.        ,  0.55647039,  0.12509936, ...,  0.7365585 ,\n",
       "           0.83257431,  2.43258524]],\n",
       "\n",
       "        [[ 0.        ,  0.        ,  0.        , ...,  0.49608251,\n",
       "           1.7814436 ,  0.1832241 ],\n",
       "         [ 0.        ,  0.31578404,  0.        , ...,  0.        ,\n",
       "           0.1710903 ,  2.22865701],\n",
       "         [ 0.2681039 ,  0.41369942,  0.        , ...,  1.38931227,\n",
       "           0.14865197,  1.27987635]]],\n",
       "\n",
       "\n",
       "       [[[ 0.        ,  0.18618858,  0.        , ...,  0.        ,\n",
       "           0.87483627,  0.        ],\n",
       "         [ 0.49912912,  1.15512896,  0.71807474, ...,  0.        ,\n",
       "           0.09977055,  0.        ],\n",
       "         [ 0.4824205 ,  1.4488157 ,  0.        , ...,  0.09221648,\n",
       "           0.92618209,  0.95186728]],\n",
       "\n",
       "        [[ 0.        ,  0.56774926,  0.        , ...,  0.        ,\n",
       "           1.064484  ,  0.        ],\n",
       "         [ 0.        ,  2.0213418 ,  0.        , ...,  0.        ,\n",
       "           0.        ,  1.29961896],\n",
       "         [ 0.48676515,  1.29764867,  0.        , ...,  0.        ,\n",
       "           0.18383075,  2.04141927]],\n",
       "\n",
       "        [[ 0.        ,  0.6536572 ,  0.        , ...,  0.31795001,\n",
       "           0.57360899,  0.        ],\n",
       "         [ 0.        ,  2.32275081,  0.        , ...,  0.        ,\n",
       "           0.        ,  1.17958128],\n",
       "         [ 0.        ,  1.53041434,  0.        , ...,  0.        ,\n",
       "           0.29541025,  1.79161298]],\n",
       "\n",
       "        ..., \n",
       "        [[ 0.        ,  0.23410793,  0.        , ...,  0.        ,\n",
       "           1.23381174,  0.        ],\n",
       "         [ 0.15667975,  2.23399425,  0.        , ...,  0.        ,\n",
       "           0.        ,  1.52806652],\n",
       "         [ 0.        ,  1.71361077,  0.        , ...,  0.48672387,\n",
       "           0.99798417,  1.85126984]],\n",
       "\n",
       "        [[ 0.        ,  0.        ,  0.        , ...,  0.46494162,\n",
       "           0.42412034,  0.        ],\n",
       "         [ 0.        ,  0.76232398,  0.34178928, ...,  0.        ,\n",
       "           0.        ,  1.80505741],\n",
       "         [ 0.        ,  0.35389221,  0.1693618 , ...,  0.37240055,\n",
       "           0.52513421,  2.30265617]],\n",
       "\n",
       "        [[ 0.        ,  0.        ,  0.        , ...,  0.35027933,\n",
       "           1.84642196,  0.        ],\n",
       "         [ 0.        ,  0.33584565,  0.        , ...,  0.        ,\n",
       "           0.08034955,  2.10159421],\n",
       "         [ 0.41471761,  0.51033562,  0.0088431 , ...,  1.50381768,\n",
       "           0.46798614,  1.13065863]]],\n",
       "\n",
       "\n",
       "       [[[ 0.        ,  0.11904187,  0.        , ...,  0.        ,\n",
       "           0.51504737,  0.        ],\n",
       "         [ 0.13943885,  1.32793021,  0.33870009, ...,  0.        ,\n",
       "           0.        ,  0.        ],\n",
       "         [ 0.48816276,  1.41542196,  0.        , ...,  0.        ,\n",
       "           0.84245676,  1.05349755]],\n",
       "\n",
       "        [[ 0.        ,  0.69004595,  0.        , ...,  0.        ,\n",
       "           0.94824642,  0.        ],\n",
       "         [ 0.06962496,  2.01290631,  0.        , ...,  0.        ,\n",
       "           0.        ,  1.22302961],\n",
       "         [ 0.39929456,  1.41209388,  0.        , ...,  0.        ,\n",
       "           0.2229525 ,  1.90671015]],\n",
       "\n",
       "        [[ 0.        ,  0.65323853,  0.        , ...,  0.4008944 ,\n",
       "           0.39088562,  0.        ],\n",
       "         [ 0.        ,  2.31246853,  0.        , ...,  0.        ,\n",
       "           0.        ,  1.18348384],\n",
       "         [ 0.04956749,  1.70923245,  0.        , ...,  0.        ,\n",
       "           0.50982958,  1.78745568]],\n",
       "\n",
       "        ..., \n",
       "        [[ 0.        ,  0.007803  ,  0.        , ...,  0.        ,\n",
       "           1.17341828,  0.        ],\n",
       "         [ 0.00532293,  2.39187622,  0.        , ...,  0.        ,\n",
       "           0.        ,  1.55558646],\n",
       "         [ 0.        ,  1.75576067,  0.        , ...,  0.61535639,\n",
       "           0.9109996 ,  2.34848595]],\n",
       "\n",
       "        [[ 0.        ,  0.        ,  0.        , ...,  0.44729581,\n",
       "           0.49429089,  0.        ],\n",
       "         [ 0.        ,  0.5046128 ,  0.09442351, ...,  0.        ,\n",
       "           0.        ,  2.21650076],\n",
       "         [ 0.        ,  0.40155858,  0.09894949, ...,  0.67554951,\n",
       "           0.46631813,  2.54339743]],\n",
       "\n",
       "        [[ 0.        ,  0.        ,  0.        , ...,  0.57795548,\n",
       "           1.87182367,  0.        ],\n",
       "         [ 0.        ,  0.37636539,  0.        , ...,  0.        ,\n",
       "           0.20990022,  2.16301727],\n",
       "         [ 0.36169314,  0.51402771,  0.        , ...,  1.4341197 ,\n",
       "           0.31002319,  1.17771804]]],\n",
       "\n",
       "\n",
       "       ..., \n",
       "       [[[ 0.        ,  0.36882377,  0.        , ...,  0.        ,\n",
       "           1.02406919,  0.        ],\n",
       "         [ 0.28428152,  2.66579628,  1.00399745, ...,  0.        ,\n",
       "           0.        ,  0.        ],\n",
       "         [ 0.83430427,  2.85898447,  0.        , ...,  0.        ,\n",
       "           1.48876524,  2.48075366]],\n",
       "\n",
       "        [[ 0.        ,  1.26551366,  0.        , ...,  0.        ,\n",
       "           1.85010386,  0.        ],\n",
       "         [ 0.        ,  3.22711802,  0.        , ...,  0.        ,\n",
       "           0.        ,  3.24942803],\n",
       "         [ 0.23168336,  2.88316369,  0.        , ...,  0.49545601,\n",
       "           0.73620945,  4.07694244]],\n",
       "\n",
       "        [[ 0.        ,  1.59773612,  0.        , ...,  0.02190804,\n",
       "           1.85154152,  0.        ],\n",
       "         [ 0.        ,  2.90211821,  0.        , ...,  0.        ,\n",
       "           0.        ,  3.23318386],\n",
       "         [ 0.        ,  3.18157172,  0.        , ...,  0.41778594,\n",
       "           0.55543607,  4.22455072]],\n",
       "\n",
       "        ..., \n",
       "        [[ 0.        ,  1.48714828,  0.        , ...,  0.        ,\n",
       "           1.73576188,  0.        ],\n",
       "         [ 0.        ,  3.39772034,  0.        , ...,  0.        ,\n",
       "           0.        ,  2.84386492],\n",
       "         [ 0.        ,  3.28506565,  0.        , ...,  0.37808883,\n",
       "           0.7144559 ,  4.37671137]],\n",
       "\n",
       "        [[ 0.        ,  0.        ,  0.51297748, ...,  0.86826855,\n",
       "           0.82150459,  0.        ],\n",
       "         [ 0.10112581,  0.15663202,  0.93867373, ...,  0.        ,\n",
       "           0.        ,  3.70771646],\n",
       "         [ 0.03305677,  1.16099131,  0.        , ...,  1.56769609,\n",
       "           0.44410709,  3.95348501]],\n",
       "\n",
       "        [[ 0.        ,  0.19586542,  0.        , ...,  0.98710698,\n",
       "           3.34727859,  0.        ],\n",
       "         [ 0.        ,  0.        ,  0.        , ...,  0.        ,\n",
       "           0.3998217 ,  4.22798729],\n",
       "         [ 0.85428643,  1.24294341,  0.        , ...,  2.38075614,\n",
       "           0.11741282,  2.25038552]]],\n",
       "\n",
       "\n",
       "       [[[ 0.        ,  0.34400237,  0.        , ...,  0.        ,\n",
       "           0.94073975,  0.        ],\n",
       "         [ 0.32748604,  2.58621311,  0.95438659, ...,  0.        ,\n",
       "           0.        ,  0.        ],\n",
       "         [ 0.86279118,  2.88770032,  0.        , ...,  0.        ,\n",
       "           1.51837385,  2.49814153]],\n",
       "\n",
       "        [[ 0.        ,  1.24276197,  0.        , ...,  0.        ,\n",
       "           1.948879  ,  0.        ],\n",
       "         [ 0.        ,  3.25185966,  0.        , ...,  0.        ,\n",
       "           0.        ,  3.23166895],\n",
       "         [ 0.20283258,  2.88953519,  0.        , ...,  0.48451546,\n",
       "           0.73882341,  4.10911083]],\n",
       "\n",
       "        [[ 0.        ,  1.57805264,  0.        , ...,  0.        ,\n",
       "           1.84828877,  0.        ],\n",
       "         [ 0.        ,  2.92376089,  0.        , ...,  0.        ,\n",
       "           0.        ,  3.2374289 ],\n",
       "         [ 0.        ,  3.15618873,  0.        , ...,  0.44905066,\n",
       "           0.58078015,  4.17693233]],\n",
       "\n",
       "        ..., \n",
       "        [[ 0.        ,  1.50674725,  0.        , ...,  0.        ,\n",
       "           1.73229253,  0.        ],\n",
       "         [ 0.        ,  3.40098929,  0.        , ...,  0.        ,\n",
       "           0.        ,  2.83061862],\n",
       "         [ 0.        ,  3.26635337,  0.        , ...,  0.394344  ,\n",
       "           0.68838674,  4.34203053]],\n",
       "\n",
       "        [[ 0.        ,  0.        ,  0.51512164, ...,  0.87200898,\n",
       "           0.8011421 ,  0.        ],\n",
       "         [ 0.08922057,  0.15095611,  0.93049145, ...,  0.        ,\n",
       "           0.        ,  3.68977928],\n",
       "         [ 0.0135208 ,  1.1672262 ,  0.        , ...,  1.54727221,\n",
       "           0.44506508,  3.98753071]],\n",
       "\n",
       "        [[ 0.        ,  0.20185149,  0.        , ...,  0.9826231 ,\n",
       "           3.35706258,  0.        ],\n",
       "         [ 0.        ,  0.        ,  0.        , ...,  0.        ,\n",
       "           0.38848242,  4.23506403],\n",
       "         [ 0.84180313,  1.24368322,  0.        , ...,  2.36714721,\n",
       "           0.11957813,  2.22668195]]],\n",
       "\n",
       "\n",
       "       [[[ 0.        ,  0.32683131,  0.        , ...,  0.        ,\n",
       "           0.88630247,  0.        ],\n",
       "         [ 0.33604017,  2.59008956,  0.90780109, ...,  0.        ,\n",
       "           0.        ,  0.        ],\n",
       "         [ 0.83294702,  2.86038136,  0.        , ...,  0.        ,\n",
       "           1.52138662,  2.53889108]],\n",
       "\n",
       "        [[ 0.        ,  1.2412684 ,  0.        , ...,  0.        ,\n",
       "           1.95793939,  0.        ],\n",
       "         [ 0.        ,  3.26031375,  0.        , ...,  0.        ,\n",
       "           0.        ,  3.25306773],\n",
       "         [ 0.19069169,  2.89384365,  0.        , ...,  0.42960718,\n",
       "           0.70249635,  4.10709572]],\n",
       "\n",
       "        [[ 0.        ,  1.57678902,  0.        , ...,  0.        ,\n",
       "           1.87832701,  0.        ],\n",
       "         [ 0.        ,  2.95928741,  0.        , ...,  0.        ,\n",
       "           0.        ,  3.24658871],\n",
       "         [ 0.        ,  3.1442647 ,  0.        , ...,  0.46874011,\n",
       "           0.60241234,  4.1748271 ]],\n",
       "\n",
       "        ..., \n",
       "        [[ 0.        ,  1.50428045,  0.        , ...,  0.        ,\n",
       "           1.73347831,  0.        ],\n",
       "         [ 0.        ,  3.41047525,  0.        , ...,  0.        ,\n",
       "           0.        ,  2.83720565],\n",
       "         [ 0.0062504 ,  3.26293898,  0.        , ...,  0.41465193,\n",
       "           0.69602585,  4.3239665 ]],\n",
       "\n",
       "        [[ 0.        ,  0.        ,  0.49088991, ...,  0.86413878,\n",
       "           0.79573321,  0.        ],\n",
       "         [ 0.07602736,  0.13321403,  0.93601632, ...,  0.        ,\n",
       "           0.        ,  3.70570874],\n",
       "         [ 0.02562596,  1.17510712,  0.        , ...,  1.53473759,\n",
       "           0.4244729 ,  3.9953444 ]],\n",
       "\n",
       "        [[ 0.        ,  0.20578542,  0.        , ...,  1.00031793,\n",
       "           3.36118007,  0.        ],\n",
       "         [ 0.        ,  0.        ,  0.        , ...,  0.        ,\n",
       "           0.39017257,  4.2487483 ],\n",
       "         [ 0.83565158,  1.23525953,  0.        , ...,  2.36817598,\n",
       "           0.12633221,  2.22428751]]]], dtype=float32)"
      ]
     },
     "execution_count": 42,
     "metadata": {},
     "output_type": "execute_result"
    }
   ],
   "source": [
    "model.add(MaxPooling2D(pool_size=(2, 2)))\n",
    "model.add(Conv2D(120, (4, 4), padding='same', activation='relu'))\n",
    "model.predict(x_test, batch_size=32, verbose=0)"
   ]
  },
  {
   "cell_type": "code",
   "execution_count": 43,
   "metadata": {
    "collapsed": false
   },
   "outputs": [
    {
     "data": {
      "text/plain": [
       "array([[[[  3.00213754e-01,   1.86329579e+00,   5.76113760e-01, ...,\n",
       "            0.00000000e+00,   1.00706339e+00,   1.44908917e+00]],\n",
       "\n",
       "        [[  1.44701637e-02,   2.29260230e+00,   1.21911384e-01, ...,\n",
       "            2.28748739e-01,   8.23840857e-01,   1.24754798e+00]],\n",
       "\n",
       "        [[  1.37548268e-01,   2.39070129e+00,   3.57825100e-01, ...,\n",
       "            3.68822664e-01,   8.95304084e-01,   1.90379345e+00]]],\n",
       "\n",
       "\n",
       "       [[[  4.99129117e-01,   2.02134180e+00,   7.18074739e-01, ...,\n",
       "            0.00000000e+00,   1.06448400e+00,   1.29961896e+00]],\n",
       "\n",
       "        [[  0.00000000e+00,   2.32275081e+00,   9.67260674e-02, ...,\n",
       "            3.17950010e-01,   6.84027851e-01,   1.32138324e+00]],\n",
       "\n",
       "        [[  1.56679749e-01,   2.23399425e+00,   3.41789275e-01, ...,\n",
       "            4.64941621e-01,   1.23381174e+00,   1.80505741e+00]]],\n",
       "\n",
       "\n",
       "       [[[  1.39438853e-01,   2.01290631e+00,   3.38700086e-01, ...,\n",
       "            0.00000000e+00,   9.48246419e-01,   1.22302961e+00]],\n",
       "\n",
       "        [[  0.00000000e+00,   2.31246853e+00,   1.19418681e-01, ...,\n",
       "            4.00894403e-01,   7.97981560e-01,   1.51337242e+00]],\n",
       "\n",
       "        [[  5.32293320e-03,   2.39187622e+00,   9.44235101e-02, ...,\n",
       "            4.47295815e-01,   1.17341828e+00,   2.21650076e+00]]],\n",
       "\n",
       "\n",
       "       ..., \n",
       "       [[[  2.84281522e-01,   3.22711802e+00,   1.00399745e+00, ...,\n",
       "            0.00000000e+00,   1.85010386e+00,   3.24942803e+00]],\n",
       "\n",
       "        [[  0.00000000e+00,   2.94774008e+00,   0.00000000e+00, ...,\n",
       "            2.19080448e-02,   1.86894751e+00,   3.23318386e+00]],\n",
       "\n",
       "        [[  1.01125807e-01,   3.39772034e+00,   9.38673735e-01, ...,\n",
       "            8.68268549e-01,   1.73576188e+00,   3.70771646e+00]]],\n",
       "\n",
       "\n",
       "       [[[  3.27486038e-01,   3.25185966e+00,   9.54386592e-01, ...,\n",
       "            0.00000000e+00,   1.94887900e+00,   3.23166895e+00]],\n",
       "\n",
       "        [[  0.00000000e+00,   2.92728138e+00,   0.00000000e+00, ...,\n",
       "            3.09029222e-03,   1.86530161e+00,   3.23742890e+00]],\n",
       "\n",
       "        [[  8.92205685e-02,   3.40098929e+00,   9.30491447e-01, ...,\n",
       "            8.72008979e-01,   1.73229253e+00,   3.68977928e+00]]],\n",
       "\n",
       "\n",
       "       [[[  3.36040169e-01,   3.26031375e+00,   9.07801092e-01, ...,\n",
       "            0.00000000e+00,   1.95793939e+00,   3.25306773e+00]],\n",
       "\n",
       "        [[  0.00000000e+00,   2.95928741e+00,   0.00000000e+00, ...,\n",
       "            2.22061351e-02,   1.87832701e+00,   3.24658871e+00]],\n",
       "\n",
       "        [[  7.60273561e-02,   3.41047525e+00,   9.36016321e-01, ...,\n",
       "            8.64138782e-01,   1.73347831e+00,   3.70570874e+00]]]], dtype=float32)"
      ]
     },
     "execution_count": 43,
     "metadata": {},
     "output_type": "execute_result"
    }
   ],
   "source": [
    "model.add(MaxPooling2D(pool_size=(2, 2)))\n",
    "model.predict(x_test, batch_size=32, verbose=0)"
   ]
  },
  {
   "cell_type": "code",
   "execution_count": 44,
   "metadata": {
    "collapsed": false
   },
   "outputs": [
    {
     "data": {
      "text/plain": [
       "array([[ 0.30021375,  1.86329579,  0.57611376, ...,  0.36882266,\n",
       "         0.89530408,  1.90379345],\n",
       "       [ 0.49912912,  2.0213418 ,  0.71807474, ...,  0.46494162,\n",
       "         1.23381174,  1.80505741],\n",
       "       [ 0.13943885,  2.01290631,  0.33870009, ...,  0.44729581,\n",
       "         1.17341828,  2.21650076],\n",
       "       ..., \n",
       "       [ 0.28428152,  3.22711802,  1.00399745, ...,  0.86826855,\n",
       "         1.73576188,  3.70771646],\n",
       "       [ 0.32748604,  3.25185966,  0.95438659, ...,  0.87200898,\n",
       "         1.73229253,  3.68977928],\n",
       "       [ 0.33604017,  3.26031375,  0.90780109, ...,  0.86413878,\n",
       "         1.73347831,  3.70570874]], dtype=float32)"
      ]
     },
     "execution_count": 44,
     "metadata": {},
     "output_type": "execute_result"
    }
   ],
   "source": [
    "model.add(Flatten())\n",
    "model.predict(x_test, batch_size=32, verbose=0)"
   ]
  },
  {
   "cell_type": "code",
   "execution_count": 45,
   "metadata": {
    "collapsed": false
   },
   "outputs": [
    {
     "data": {
      "text/plain": [
       "array([[-1.03276873, -0.3561312 , -1.1455636 , ...,  0.66817957,\n",
       "        -1.57154322,  0.61914575],\n",
       "       [-1.23381114, -0.31987113, -1.02429152, ...,  0.31765682,\n",
       "        -1.62402105,  0.84568089],\n",
       "       [-1.17676151, -0.28136492, -1.02744186, ...,  0.56497896,\n",
       "        -1.31831074,  0.72780508],\n",
       "       ..., \n",
       "       [-1.56514621, -0.0247457 , -1.62838686, ...,  0.72968864,\n",
       "        -3.23852491,  1.79206049],\n",
       "       [-1.57384765, -0.04210126, -1.63492155, ...,  0.73428881,\n",
       "        -3.24951458,  1.81300342],\n",
       "       [-1.56968975, -0.01183212, -1.64202166, ...,  0.70779455,\n",
       "        -3.24848676,  1.80803335]], dtype=float32)"
      ]
     },
     "execution_count": 45,
     "metadata": {},
     "output_type": "execute_result"
    }
   ],
   "source": [
    "model.add(Dense(200))\n",
    "model.predict(x_test, batch_size=32, verbose=0)"
   ]
  },
  {
   "cell_type": "code",
   "execution_count": 46,
   "metadata": {
    "collapsed": false
   },
   "outputs": [
    {
     "data": {
      "text/plain": [
       "array([[ 0.        ,  0.        ,  0.        , ...,  0.66817957,\n",
       "         0.        ,  0.61914575],\n",
       "       [ 0.        ,  0.        ,  0.        , ...,  0.31765682,\n",
       "         0.        ,  0.84568089],\n",
       "       [ 0.        ,  0.        ,  0.        , ...,  0.56497896,\n",
       "         0.        ,  0.72780508],\n",
       "       ..., \n",
       "       [ 0.        ,  0.        ,  0.        , ...,  0.72968864,\n",
       "         0.        ,  1.79206049],\n",
       "       [ 0.        ,  0.        ,  0.        , ...,  0.73428881,\n",
       "         0.        ,  1.81300342],\n",
       "       [ 0.        ,  0.        ,  0.        , ...,  0.70779455,\n",
       "         0.        ,  1.80803335]], dtype=float32)"
      ]
     },
     "execution_count": 46,
     "metadata": {},
     "output_type": "execute_result"
    }
   ],
   "source": [
    "model.add(Activation('relu'))\n",
    "model.predict(x_test, batch_size=32, verbose=0)"
   ]
  },
  {
   "cell_type": "code",
   "execution_count": 47,
   "metadata": {
    "collapsed": false
   },
   "outputs": [
    {
     "data": {
      "text/plain": [
       "array([[ 0.52457231,  0.44029403,  0.03513367],\n",
       "       [ 0.66371137,  0.3119261 ,  0.02436259],\n",
       "       [ 0.64783406,  0.32127354,  0.03089248],\n",
       "       ..., \n",
       "       [ 0.76546824,  0.23002928,  0.00450254],\n",
       "       [ 0.77684379,  0.21881658,  0.00433952],\n",
       "       [ 0.77043068,  0.22500472,  0.00456453]], dtype=float32)"
      ]
     },
     "execution_count": 47,
     "metadata": {},
     "output_type": "execute_result"
    }
   ],
   "source": [
    "model.add(Dense(y_train_trans.shape[1], activation='softmax'))\n",
    "model.predict(x_test, batch_size=32, verbose=0)"
   ]
  },
  {
   "cell_type": "code",
   "execution_count": 48,
   "metadata": {
    "collapsed": true
   },
   "outputs": [],
   "source": [
    "#model.compile(loss='categorical_crossentropy', optimizer=Adadelta(), metrics = [\"accuracy\"])"
   ]
  },
  {
   "cell_type": "code",
   "execution_count": 49,
   "metadata": {
    "collapsed": false
   },
   "outputs": [
    {
     "data": {
      "text/plain": [
       "array([[ 0.52457231,  0.44029403,  0.03513367],\n",
       "       [ 0.66371137,  0.3119261 ,  0.02436259],\n",
       "       [ 0.64783406,  0.32127354,  0.03089248],\n",
       "       ..., \n",
       "       [ 0.76546824,  0.23002928,  0.00450254],\n",
       "       [ 0.77684379,  0.21881658,  0.00433952],\n",
       "       [ 0.77043068,  0.22500472,  0.00456453]], dtype=float32)"
      ]
     },
     "execution_count": 49,
     "metadata": {},
     "output_type": "execute_result"
    }
   ],
   "source": [
    "adam = Adam(lr=0.00001, beta_1=0.9, beta_2=0.999, epsilon=1e-08)\n",
    "model.compile(loss=\"mse\",optimizer=adam, metrics=['accuracy'])\n",
    "model.predict(x_test, batch_size=32, verbose=0)"
   ]
  },
  {
   "cell_type": "code",
   "execution_count": 50,
   "metadata": {
    "collapsed": false
   },
   "outputs": [
    {
     "name": "stdout",
     "output_type": "stream",
     "text": [
      "_________________________________________________________________\n",
      "Layer (type)                 Output Shape              Param #   \n",
      "=================================================================\n",
      "conv2d_1 (Conv2D)            (None, 30, 14, 10)        170       \n",
      "_________________________________________________________________\n",
      "max_pooling2d_1 (MaxPooling2 (None, 15, 7, 10)         0         \n",
      "_________________________________________________________________\n",
      "conv2d_2 (Conv2D)            (None, 15, 7, 20)         3220      \n",
      "_________________________________________________________________\n",
      "max_pooling2d_2 (MaxPooling2 (None, 7, 3, 20)          0         \n",
      "_________________________________________________________________\n",
      "conv2d_3 (Conv2D)            (None, 7, 3, 120)         38520     \n",
      "_________________________________________________________________\n",
      "max_pooling2d_3 (MaxPooling2 (None, 3, 1, 120)         0         \n",
      "_________________________________________________________________\n",
      "flatten_1 (Flatten)          (None, 360)               0         \n",
      "_________________________________________________________________\n",
      "dense_1 (Dense)              (None, 200)               72200     \n",
      "_________________________________________________________________\n",
      "activation_1 (Activation)    (None, 200)               0         \n",
      "_________________________________________________________________\n",
      "dense_2 (Dense)              (None, 3)                 603       \n",
      "=================================================================\n",
      "Total params: 114,713\n",
      "Trainable params: 114,713\n",
      "Non-trainable params: 0\n",
      "_________________________________________________________________\n"
     ]
    }
   ],
   "source": [
    "model.summary()"
   ]
  },
  {
   "cell_type": "code",
   "execution_count": 51,
   "metadata": {
    "collapsed": false
   },
   "outputs": [
    {
     "name": "stdout",
     "output_type": "stream",
     "text": [
      "[[ 0.52457231  0.44029403  0.03513367]\n",
      " [ 0.66371137  0.3119261   0.02436259]\n",
      " [ 0.64783406  0.32127354  0.03089248]\n",
      " ..., \n",
      " [ 0.76546824  0.23002928  0.00450254]\n",
      " [ 0.77684379  0.21881658  0.00433952]\n",
      " [ 0.77043068  0.22500472  0.00456453]]\n",
      "Epoch 1/1\n",
      "31500/31500 [==============================] - 13s 427us/step - loss: nan - acc: 0.1207\n"
     ]
    },
    {
     "data": {
      "text/plain": [
       "<keras.callbacks.History at 0x41ffb52f60>"
      ]
     },
     "execution_count": 51,
     "metadata": {},
     "output_type": "execute_result"
    }
   ],
   "source": [
    "print(model.predict(x_test, batch_size=32, verbose=0))\n",
    "model.fit(x_train, y_train_trans, epochs=1)"
   ]
  },
  {
   "cell_type": "code",
   "execution_count": 52,
   "metadata": {
    "collapsed": false
   },
   "outputs": [
    {
     "data": {
      "text/plain": [
       "(15750, 3)"
      ]
     },
     "execution_count": 52,
     "metadata": {},
     "output_type": "execute_result"
    }
   ],
   "source": [
    "y_test_trans.shape"
   ]
  },
  {
   "cell_type": "code",
   "execution_count": 53,
   "metadata": {
    "collapsed": false
   },
   "outputs": [
    {
     "name": "stdout",
     "output_type": "stream",
     "text": [
      "15750/15750 [==============================] - 2s 148us/step\n"
     ]
    },
    {
     "data": {
      "text/plain": [
       "[nan, 0.10196825396825397]"
      ]
     },
     "execution_count": 53,
     "metadata": {},
     "output_type": "execute_result"
    }
   ],
   "source": [
    "score = model.evaluate(x_test, y_test_trans)\n",
    "score"
   ]
  },
  {
   "cell_type": "code",
   "execution_count": 54,
   "metadata": {
    "collapsed": true
   },
   "outputs": [],
   "source": [
    "pick = np.random.randint(1,15750, 20)"
   ]
  },
  {
   "cell_type": "code",
   "execution_count": 55,
   "metadata": {
    "collapsed": false
   },
   "outputs": [
    {
     "data": {
      "text/plain": [
       "array([[ nan,  nan,  nan],\n",
       "       [ nan,  nan,  nan],\n",
       "       [ nan,  nan,  nan],\n",
       "       ..., \n",
       "       [ nan,  nan,  nan],\n",
       "       [ nan,  nan,  nan],\n",
       "       [ nan,  nan,  nan]], dtype=float32)"
      ]
     },
     "execution_count": 55,
     "metadata": {},
     "output_type": "execute_result"
    }
   ],
   "source": [
    "model.predict(x_test, batch_size=32, verbose=0)"
   ]
  },
  {
   "cell_type": "code",
   "execution_count": 56,
   "metadata": {
    "collapsed": false
   },
   "outputs": [],
   "source": [
    "result = model.predict_classes(x_test)"
   ]
  },
  {
   "cell_type": "code",
   "execution_count": 57,
   "metadata": {
    "collapsed": false
   },
   "outputs": [
    {
     "data": {
      "text/plain": [
       "(15750,)"
      ]
     },
     "execution_count": 57,
     "metadata": {},
     "output_type": "execute_result"
    }
   ],
   "source": [
    "result.shape"
   ]
  },
  {
   "cell_type": "code",
   "execution_count": 58,
   "metadata": {
    "collapsed": true
   },
   "outputs": [],
   "source": [
    "from ipywidgets import interact_manual"
   ]
  },
  {
   "cell_type": "code",
   "execution_count": 59,
   "metadata": {
    "collapsed": true
   },
   "outputs": [],
   "source": [
    "def identify(testnumber):\n",
    "    print(testnumber);\n",
    "    print(\"神經網路判斷為：\",result[testnumber]);\n",
    "    print(\"正確答案是:\",y_test_trans[testnumber]);"
   ]
  },
  {
   "cell_type": "code",
   "execution_count": 60,
   "metadata": {
    "collapsed": false
   },
   "outputs": [
    {
     "name": "stdout",
     "output_type": "stream",
     "text": [
      "3071\n",
      "神經網路判斷為： 0\n",
      "正確答案是: [ 0.  0.  1.]\n"
     ]
    }
   ],
   "source": [
    "interact_manual(identify, testnumber=(0,15449))"
   ]
  },
  {
   "cell_type": "code",
   "execution_count": null,
   "metadata": {
    "collapsed": true
   },
   "outputs": [],
   "source": []
  }
 ],
 "metadata": {
  "anaconda-cloud": {},
  "kernelspec": {
   "display_name": "Python [Root]",
   "language": "python",
   "name": "Python [Root]"
  },
  "language_info": {
   "codemirror_mode": {
    "name": "ipython",
    "version": 3
   },
   "file_extension": ".py",
   "mimetype": "text/x-python",
   "name": "python",
   "nbconvert_exporter": "python",
   "pygments_lexer": "ipython3",
   "version": "3.5.2"
  }
 },
 "nbformat": 4,
 "nbformat_minor": 1
}
